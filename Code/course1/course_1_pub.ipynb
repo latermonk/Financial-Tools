{
 "cells": [
  {
   "cell_type": "markdown",
   "metadata": {},
   "source": [
    "# 1 ABC"
   ]
  },
  {
   "cell_type": "markdown",
   "metadata": {},
   "source": [
    "## 1.1 hello world"
   ]
  },
  {
   "cell_type": "markdown",
   "metadata": {},
   "source": [
    "首先让我们运行第一条Python程序,输入完代码后，按ctrl + enter即可运行"
   ]
  },
  {
   "cell_type": "code",
   "execution_count": 1,
   "metadata": {},
   "outputs": [
    {
     "name": "stdout",
     "output_type": "stream",
     "text": [
      "hello world\n"
     ]
    }
   ],
   "source": [
    "print(\"hello world\")"
   ]
  },
  {
   "cell_type": "code",
   "execution_count": 2,
   "metadata": {},
   "outputs": [
    {
     "ename": "SyntaxError",
     "evalue": "Missing parentheses in call to 'print'. Did you mean print(\"hello world\")? (<ipython-input-2-6d29d8fb337c>, line 1)",
     "output_type": "error",
     "traceback": [
      "\u001b[0;36m  File \u001b[0;32m\"<ipython-input-2-6d29d8fb337c>\"\u001b[0;36m, line \u001b[0;32m1\u001b[0m\n\u001b[0;31m    print \"hello world\"\u001b[0m\n\u001b[0m                      ^\u001b[0m\n\u001b[0;31mSyntaxError\u001b[0m\u001b[0;31m:\u001b[0m Missing parentheses in call to 'print'. Did you mean print(\"hello world\")?\n"
     ]
    }
   ],
   "source": [
    "print \"hello world\""
   ]
  },
  {
   "cell_type": "markdown",
   "metadata": {},
   "source": [
    "类似的，我们可以用一个变量来暂时存储并最终打印这句话"
   ]
  },
  {
   "cell_type": "code",
   "execution_count": 3,
   "metadata": {},
   "outputs": [
    {
     "name": "stdout",
     "output_type": "stream",
     "text": [
      "hello world\n",
      "你好世界\n"
     ]
    }
   ],
   "source": [
    "tmp_string = 'hello world'\n",
    "\n",
    "问候 = '你好世界'\n",
    "print(tmp_string)\n",
    "print(问候)"
   ]
  },
  {
   "cell_type": "markdown",
   "metadata": {},
   "source": [
    "# 一级标题\n",
    "## 🎧必要\n",
    "###没空格就没用了\n",
    "- 小点"
   ]
  },
  {
   "cell_type": "markdown",
   "metadata": {},
   "source": [
    "这是注释文本"
   ]
  },
  {
   "cell_type": "markdown",
   "metadata": {},
   "source": [
    "上面，tmp_string 是我们自己定义的变量名，他可以叫任何名字，只要起名后你还记得他\n",
    "中文命名玩玩就好了，不要真的去用"
   ]
  },
  {
   "cell_type": "markdown",
   "metadata": {},
   "source": [
    "上面那个程序其实包含了最重要的四个元素\n",
    " - 变量：黑色的，用户定义并赋值的\n",
    " - 运算符: 紫色的，用于进行变量间的简单操作\n",
    " - 函数：绿色的，用于进行一些更加复杂的操作，分为系统函数与用户定义函数\n",
    " - 值，在本例中为红色的字符串\n",
    " "
   ]
  },
  {
   "cell_type": "markdown",
   "metadata": {},
   "source": [
    "## 1.2 基本数据类型"
   ]
  },
  {
   "cell_type": "markdown",
   "metadata": {},
   "source": [
    "### 1.2.1 整数、浮点数"
   ]
  },
  {
   "cell_type": "code",
   "execution_count": 4,
   "metadata": {},
   "outputs": [
    {
     "data": {
      "text/plain": [
       "[10, 10.0, 10.0, '10', True, False]"
      ]
     },
     "execution_count": 4,
     "metadata": {},
     "output_type": "execute_result"
    }
   ],
   "source": [
    "[10,10.0,1e1,'10',True,False]"
   ]
  },
  {
   "cell_type": "code",
   "execution_count": 5,
   "metadata": {},
   "outputs": [
    {
     "name": "stdout",
     "output_type": "stream",
     "text": [
      "12\n",
      "8\n",
      "20\n",
      "\n",
      "12.0\n",
      "8.0\n",
      "20.0\n",
      "\n",
      "12.0\n",
      "8.0\n",
      "20.0\n"
     ]
    }
   ],
   "source": [
    "print(10+2)\n",
    "print(10-2)\n",
    "print(10*2)\n",
    "print()\n",
    "print(10.0+2.0)\n",
    "print(10.0-2.0)\n",
    "print(10.0*2.0)\n",
    "print()\n",
    "print(10+2.0)\n",
    "print(10-2.0)\n",
    "print(10*2.0)"
   ]
  },
  {
   "cell_type": "markdown",
   "metadata": {},
   "source": [
    "可以粗略的认为，是一种更为“节约”的数据类型，当两个整数相加减乘时，仍为整数；但若整数和一个浮点数相加减，则会成为浮点数"
   ]
  },
  {
   "cell_type": "code",
   "execution_count": 6,
   "metadata": {},
   "outputs": [
    {
     "name": "stdout",
     "output_type": "stream",
     "text": [
      "5.0\n",
      "5.0\n",
      "3.3333333333333335\n",
      "3.3333333333333335\n"
     ]
    }
   ],
   "source": [
    "print(10/2)\n",
    "print(10.0/2)\n",
    "print(10/3)\n",
    "print(10.0/3)"
   ]
  },
  {
   "cell_type": "markdown",
   "metadata": {},
   "source": [
    "但涉及除法，不论是否可以除尽，不论除数被除数是否是整数，返回结果都是浮点数"
   ]
  },
  {
   "cell_type": "code",
   "execution_count": 27,
   "metadata": {},
   "outputs": [
    {
     "name": "stdout",
     "output_type": "stream",
     "text": [
      "1.0\n",
      "1\n",
      "\n",
      "5\n",
      "0\n",
      "0\n",
      "1\n"
     ]
    }
   ],
   "source": [
    "print(float(1))\n",
    "print(int(1.2))\n",
    "print()\n",
    "print(int(10/2))\n",
    "print(int(1/3))\n",
    "print(int(2/3))\n",
    "print(int(2/3+0.5))"
   ]
  },
  {
   "cell_type": "markdown",
   "metadata": {},
   "source": [
    "数据类型转换\n",
    "- int()可以将数据类型强制转换成整数，但是会向下取整\n",
    "- float()可以强制转换为浮点数\n",
    "- 向下取整是一个特性，可以很容易地转换成四舍五入\n",
    "- 整数有其不可取代的情景，不能统一地将所有数字转换成浮点数，需要确定是整数，才能在此类情景中使用"
   ]
  },
  {
   "cell_type": "markdown",
   "metadata": {},
   "source": [
    "### 1.2.2 字符串"
   ]
  },
  {
   "cell_type": "code",
   "execution_count": 7,
   "metadata": {},
   "outputs": [
    {
     "name": "stdout",
     "output_type": "stream",
     "text": [
      "'hello world'\n",
      "\"你好世界\"\n",
      "'hello world'\"你好世界\"\n"
     ]
    }
   ],
   "source": [
    "str_en = \"'hello world'\"\n",
    "str_chi = '\"你好世界\"'\n",
    "print(str_en)\n",
    "print(str_chi)\n",
    "print(str_en+str_chi)"
   ]
  },
  {
   "cell_type": "markdown",
   "metadata": {},
   "source": [
    "- 字符串可以是英文的，可以是中文的；\n",
    "- 可以是\"括起来的，也可以是'括起来的，但引号不能是中文的，使用哪个一来看需求，二来看习惯\n",
    "- 两个字符串可以简便的通过+连接起来\n",
    "- 但是两个字符串无法做 */-"
   ]
  },
  {
   "cell_type": "code",
   "execution_count": 8,
   "metadata": {},
   "outputs": [
    {
     "name": "stdout",
     "output_type": "stream",
     "text": [
      "13\n",
      "'\n",
      "'\n",
      "'he\n",
      "ld\n",
      "'he\n",
      "ld'\n",
      "el\n"
     ]
    }
   ],
   "source": [
    "print(len(str_en))\n",
    "print(str_en[0])\n",
    "print(str_en[-1])\n",
    "print(str_en[0:3])\n",
    "print(str_en[-3:-1])\n",
    "print(str_en[:3])\n",
    "print(str_en[-3:])\n",
    "print(str_en[2:4])·"
   ]
  },
  {
   "cell_type": "code",
   "execution_count": 9,
   "metadata": {},
   "outputs": [
    {
     "name": "stdout",
     "output_type": "stream",
     "text": [
      "'hello world'\n"
     ]
    }
   ],
   "source": [
    "print(str_en)"
   ]
  },
  {
   "cell_type": "code",
   "execution_count": 10,
   "metadata": {},
   "outputs": [
    {
     "data": {
      "text/plain": [
       "\"'\""
      ]
     },
     "execution_count": 10,
     "metadata": {},
     "output_type": "execute_result"
    }
   ],
   "source": [
    "str_en[0]"
   ]
  },
  {
   "cell_type": "code",
   "execution_count": 11,
   "metadata": {},
   "outputs": [
    {
     "ename": "IndexError",
     "evalue": "string index out of range",
     "output_type": "error",
     "traceback": [
      "\u001b[0;31m---------------------------------------------------------------------------\u001b[0m",
      "\u001b[0;31mIndexError\u001b[0m                                Traceback (most recent call last)",
      "\u001b[0;32m<ipython-input-11-1ad47fcaddd4>\u001b[0m in \u001b[0;36m<module>\u001b[0;34m\u001b[0m\n\u001b[0;32m----> 1\u001b[0;31m \u001b[0mstr_en\u001b[0m\u001b[0;34m[\u001b[0m\u001b[0;36m13\u001b[0m\u001b[0;34m]\u001b[0m\u001b[0;34m\u001b[0m\u001b[0;34m\u001b[0m\u001b[0m\n\u001b[0m",
      "\u001b[0;31mIndexError\u001b[0m: string index out of range"
     ]
    }
   ],
   "source": [
    "str_en[13]"
   ]
  },
  {
   "cell_type": "code",
   "execution_count": 12,
   "metadata": {},
   "outputs": [
    {
     "ename": "IndexError",
     "evalue": "string index out of range",
     "output_type": "error",
     "traceback": [
      "\u001b[0;31m---------------------------------------------------------------------------\u001b[0m",
      "\u001b[0;31mIndexError\u001b[0m                                Traceback (most recent call last)",
      "\u001b[0;32m<ipython-input-12-402b673de0d3>\u001b[0m in \u001b[0;36m<module>\u001b[0;34m\u001b[0m\n\u001b[0;32m----> 1\u001b[0;31m \u001b[0mprint\u001b[0m\u001b[0;34m(\u001b[0m\u001b[0mstr_en\u001b[0m\u001b[0;34m[\u001b[0m\u001b[0mlen\u001b[0m\u001b[0;34m(\u001b[0m\u001b[0mstr_en\u001b[0m\u001b[0;34m)\u001b[0m\u001b[0;34m]\u001b[0m\u001b[0;34m)\u001b[0m\u001b[0;34m\u001b[0m\u001b[0;34m\u001b[0m\u001b[0m\n\u001b[0m",
      "\u001b[0;31mIndexError\u001b[0m: string index out of range"
     ]
    }
   ],
   "source": [
    "print(str_en[len(str_en)])"
   ]
  },
  {
   "cell_type": "code",
   "execution_count": 14,
   "metadata": {},
   "outputs": [
    {
     "name": "stdout",
     "output_type": "stream",
     "text": [
      " \n"
     ]
    }
   ],
   "source": [
    "print(str_en[int(len(str_en)/2])"
   ]
  },
  {
   "cell_type": "code",
   "execution_count": 39,
   "metadata": {},
   "outputs": [
    {
     "name": "stdout",
     "output_type": "stream",
     "text": [
      " \n"
     ]
    }
   ],
   "source": [
    "print(str_en[int(len(str_en)/2)])"
   ]
  },
  {
   "cell_type": "markdown",
   "metadata": {},
   "source": [
    "- 字符串可以认为是一串字符连接在一起，所以我们可以逐个访问某个元素\n",
    "- 下标的操作方法[]\n",
    "- 从0开始数数\n",
    "- 只能用整数index\n",
    "- 空格占位置"
   ]
  },
  {
   "cell_type": "markdown",
   "metadata": {},
   "source": [
    "- 在unidcode的情况下，一个汉字、字幕、数字、符号占位都是1"
   ]
  },
  {
   "cell_type": "code",
   "execution_count": 17,
   "metadata": {},
   "outputs": [
    {
     "name": "stdout",
     "output_type": "stream",
     "text": [
      "\"你好世界\"\n",
      "\"你好世界\"\"你好世界\"\n"
     ]
    }
   ],
   "source": [
    "print(str_en)\n",
    "print(str_en*2)"
   ]
  },
  {
   "cell_type": "code",
   "execution_count": 18,
   "metadata": {},
   "outputs": [
    {
     "ename": "TypeError",
     "evalue": "can only concatenate str (not \"int\") to str",
     "output_type": "error",
     "traceback": [
      "\u001b[0;31m---------------------------------------------------------------------------\u001b[0m",
      "\u001b[0;31mTypeError\u001b[0m                                 Traceback (most recent call last)",
      "\u001b[0;32m<ipython-input-18-e5dc22f79111>\u001b[0m in \u001b[0;36m<module>\u001b[0;34m\u001b[0m\n\u001b[0;32m----> 1\u001b[0;31m \u001b[0mprint\u001b[0m\u001b[0;34m(\u001b[0m\u001b[0mstr_en\u001b[0m\u001b[0;34m+\u001b[0m\u001b[0;36m2\u001b[0m\u001b[0;34m)\u001b[0m\u001b[0;34m\u001b[0m\u001b[0;34m\u001b[0m\u001b[0m\n\u001b[0m",
      "\u001b[0;31mTypeError\u001b[0m: can only concatenate str (not \"int\") to str"
     ]
    }
   ],
   "source": [
    "print(str_en+2)"
   ]
  },
  {
   "cell_type": "code",
   "execution_count": 19,
   "metadata": {},
   "outputs": [
    {
     "name": "stdout",
     "output_type": "stream",
     "text": [
      "\"你好世界\"2\n",
      "\"你好世界\"2.0\n",
      "\"你好世界\"5.0\n",
      "\"你好世界\"3.3333333333333335\n"
     ]
    }
   ],
   "source": [
    "print(str_en+str(2))\n",
    "print(str_en+str(2.0))\n",
    "print(str_en+str(10/2))\n",
    "print(str_en+str(10/3))"
   ]
  },
  {
   "cell_type": "code",
   "execution_count": 21,
   "metadata": {},
   "outputs": [
    {
     "name": "stdout",
     "output_type": "stream",
     "text": [
      "hello '\n",
      "hello\n",
      "world\n",
      "hello\tworld\n",
      "hello\\tworld\n",
      "hello\\nworld\n"
     ]
    }
   ],
   "source": [
    "print ('hello \\'')\n",
    "\n",
    "print ('hello\\nworld')\n",
    "print ('hello\\tworld')\n",
    "print ('hello\\\\tworld')\n",
    "print ('hello\\\\nworld')   #这是注释\n"
   ]
  },
  {
   "cell_type": "markdown",
   "metadata": {},
   "source": [
    "- 连接数字前需要先令其字符串化"
   ]
  },
  {
   "cell_type": "markdown",
   "metadata": {},
   "source": [
    "### 1.2.3 布尔函数"
   ]
  },
  {
   "cell_type": "code",
   "execution_count": 22,
   "metadata": {},
   "outputs": [
    {
     "name": "stdout",
     "output_type": "stream",
     "text": [
      "[True, False, True, False]\n"
     ]
    }
   ],
   "source": [
    "b1 = True\n",
    "b2 = False\n",
    "b3 = 3 > 1\n",
    "b4 = 3 < 1\n",
    "print([b1,b2,b3,b4])"
   ]
  },
  {
   "cell_type": "code",
   "execution_count": 23,
   "metadata": {},
   "outputs": [
    {
     "name": "stdout",
     "output_type": "stream",
     "text": [
      "True\n",
      "False\n",
      "True\n",
      "False\n",
      "False\n",
      "False\n"
     ]
    }
   ],
   "source": [
    "print(b1|b2)\n",
    "print(b1&b2)\n",
    "print(b1 or b2)\n",
    "print(b1 and b2)\n",
    "print(not b1)\n",
    "print(not(b1 or b2))"
   ]
  },
  {
   "cell_type": "code",
   "execution_count": null,
   "metadata": {},
   "outputs": [],
   "source": []
  },
  {
   "cell_type": "markdown",
   "metadata": {},
   "source": [
    "- 布尔函数更多的用在if语句中"
   ]
  },
  {
   "cell_type": "markdown",
   "metadata": {},
   "source": [
    "## 1.3 运算符"
   ]
  },
  {
   "cell_type": "markdown",
   "metadata": {},
   "source": [
    "### 1.3.1 = 赋值"
   ]
  },
  {
   "cell_type": "code",
   "execution_count": 24,
   "metadata": {},
   "outputs": [
    {
     "name": "stdout",
     "output_type": "stream",
     "text": [
      "2\n",
      "2.0\n",
      "2.0\n"
     ]
    }
   ],
   "source": [
    "t1 = 2\n",
    "print(t1)\n",
    "t1 = 2.0\n",
    "print(t1)\n",
    "t1 = str(t1)\n",
    "print(t1)"
   ]
  },
  {
   "cell_type": "markdown",
   "metadata": {},
   "source": [
    "### 1.3.2 == （是否）相等 > < <= >="
   ]
  },
  {
   "cell_type": "code",
   "execution_count": 27,
   "metadata": {},
   "outputs": [
    {
     "name": "stdout",
     "output_type": "stream",
     "text": [
      "True\n",
      "False\n",
      "True\n",
      "False\n",
      "True\n"
     ]
    }
   ],
   "source": [
    "t1 = 2.00\n",
    "print (t1 == 2.0)\n",
    "print(t1 == '2.0')\n",
    "print(2 == 2.0)\n",
    "print(0.33333333333333 == 1/3)\n",
    "print(0.33333333333333-1/3 <= 0.0000001 or 0.33333333333 - 1/3 >= 0.0000001)"
   ]
  },
  {
   "cell_type": "markdown",
   "metadata": {},
   "source": [
    "### 1.3.3 加减乘除  取模   乘方   整除"
   ]
  },
  {
   "cell_type": "code",
   "execution_count": 28,
   "metadata": {},
   "outputs": [
    {
     "name": "stdout",
     "output_type": "stream",
     "text": [
      "3\n",
      "2\n",
      "3\n",
      "2\n",
      "4\n",
      "2.0\n",
      "2.0\n",
      "2\n",
      "8\n",
      "1.4142135623730951\n",
      "3\n"
     ]
    }
   ],
   "source": [
    "t_num = 2\n",
    "t_num += 1\n",
    "print(t_num)\n",
    "t_num -= 1\n",
    "print(t_num)\n",
    "\n",
    "t_num = t_num + 1\n",
    "print(t_num)\n",
    "t_num = t_num - 1\n",
    "print(t_num)\n",
    "\n",
    "t_num*=2\n",
    "print(t_num)\n",
    "t_num/=2\n",
    "print(t_num)\n",
    "\n",
    "print(t_num%3)\n",
    "t_num=int(t_num)\n",
    "print(t_num%3)\n",
    "print(t_num**3)\n",
    "print(t_num**(1/2))\n",
    "print(10//3)  # int(10/3)"
   ]
  },
  {
   "cell_type": "markdown",
   "metadata": {},
   "source": [
    "### 1.3.4 字符串"
   ]
  },
  {
   "cell_type": "code",
   "execution_count": 30,
   "metadata": {},
   "outputs": [
    {
     "name": "stdout",
     "output_type": "stream",
     "text": [
      "['i have an apple', ' i have a pen', ' duang', ' apple pen']\n"
     ]
    }
   ],
   "source": [
    "new_str = 'i have an apple, i have a pen, duang, apple pen'\n",
    "str_sp = new_str.split(',')\n",
    "print(str_sp)"
   ]
  },
  {
   "cell_type": "code",
   "execution_count": 31,
   "metadata": {},
   "outputs": [
    {
     "name": "stdout",
     "output_type": "stream",
     "text": [
      "i have an apple\n"
     ]
    }
   ],
   "source": [
    "print(str_sp[0])"
   ]
  },
  {
   "cell_type": "code",
   "execution_count": 96,
   "metadata": {},
   "outputs": [
    {
     "name": "stdout",
     "output_type": "stream",
     "text": [
      "i hAve An Apple, i hAve A pen, duAng, Apple pen\n",
      "i hAve An apple, i have a pen, duang, apple pen\n"
     ]
    }
   ],
   "source": [
    "new_str_2 = new_str.replace('a','A')\n",
    "print(new_str_2)\n",
    "new_str_3 = new_str.replace('a','A',2)\n",
    "print(new_str_3)"
   ]
  },
  {
   "cell_type": "code",
   "execution_count": 32,
   "metadata": {},
   "outputs": [],
   "source": [
    "?new_str.split"
   ]
  },
  {
   "cell_type": "markdown",
   "metadata": {},
   "source": [
    "## 1.4 基本控制流"
   ]
  },
  {
   "cell_type": "markdown",
   "metadata": {},
   "source": [
    "- 传说一个程序员一辈子写下的{}数量是有限的，又传说{是否重启一行、最好的语言、是否写注释并列三大万恶之源，所以Python不用大括号\n",
    "- Python的运行逻辑完全依赖缩进与冒号:（一定得是英文的！）\n",
    "- 缩进的种类有两种，四个空格的是原旨主义者，用tab这很Python，sometimes it sucks"
   ]
  },
  {
   "cell_type": "markdown",
   "metadata": {},
   "source": [
    "### 1.4.1 if 语句"
   ]
  },
  {
   "cell_type": "code",
   "execution_count": 34,
   "metadata": {},
   "outputs": [
    {
     "name": "stdout",
     "output_type": "stream",
     "text": [
      "C\n"
     ]
    }
   ],
   "source": [
    "grade = 72\n",
    "if grade > 90:\n",
    "    print('A')\n",
    "else:\n",
    "    if grade > 80:\n",
    "        print('B')\n",
    "    else:\n",
    "        if grade > 70:\n",
    "            print('C')\n",
    "        else:\n",
    "            if grade >= 60:\n",
    "                print('D')\n",
    "            else:\n",
    "                print('不及格')"
   ]
  },
  {
   "cell_type": "code",
   "execution_count": 35,
   "metadata": {},
   "outputs": [
    {
     "name": "stdout",
     "output_type": "stream",
     "text": [
      "A\n",
      "B\n",
      "C\n",
      "D\n"
     ]
    }
   ],
   "source": [
    "grade = 95\n",
    "if grade > 90:\n",
    "    print('A')\n",
    "    \n",
    "if grade > 80:\n",
    "    print('B')\n",
    "   \n",
    "if grade > 70:\n",
    "    print('C')\n",
    "        \n",
    "if grade >= 60:\n",
    "    print('D')\n",
    "else:\n",
    "    print('不及格')"
   ]
  },
  {
   "cell_type": "code",
   "execution_count": 102,
   "metadata": {},
   "outputs": [
    {
     "name": "stdout",
     "output_type": "stream",
     "text": [
      "A\n"
     ]
    }
   ],
   "source": [
    "grade = 95\n",
    "if grade > 90:\n",
    "    print('A')\n",
    "    \n",
    "if grade > 80 and grade <= 90:\n",
    "    print('B')\n",
    "   \n",
    "if grade > 70 and grade <= 80:\n",
    "    print('C')\n",
    "        \n",
    "if grade >= 60 and grade <= 70:\n",
    "    print('D')\n",
    "if grade < 60:\n",
    "    print('不及格')"
   ]
  },
  {
   "cell_type": "code",
   "execution_count": 36,
   "metadata": {},
   "outputs": [
    {
     "ename": "SyntaxError",
     "evalue": "invalid character in identifier (<ipython-input-36-aac00692ff1f>, line 3)",
     "output_type": "error",
     "traceback": [
      "\u001b[0;36m  File \u001b[0;32m\"<ipython-input-36-aac00692ff1f>\"\u001b[0;36m, line \u001b[0;32m3\u001b[0m\n\u001b[0;31m    if True：\u001b[0m\n\u001b[0m           ^\u001b[0m\n\u001b[0;31mSyntaxError\u001b[0m\u001b[0;31m:\u001b[0m invalid character in identifier\n"
     ]
    }
   ],
   "source": [
    "if True:\n",
    "    pass\n",
    "if True：\n",
    "    pass"
   ]
  },
  {
   "cell_type": "markdown",
   "metadata": {},
   "source": [
    "### 1.4.2 循环"
   ]
  },
  {
   "cell_type": "markdown",
   "metadata": {},
   "source": [
    "#### for循环"
   ]
  },
  {
   "cell_type": "code",
   "execution_count": 37,
   "metadata": {},
   "outputs": [
    {
     "name": "stdout",
     "output_type": "stream",
     "text": [
      "range(0, 10)\n",
      "5\n",
      "6\n",
      "7\n",
      "8\n",
      "9\n"
     ]
    }
   ],
   "source": [
    "print(range(10))\n",
    "for i in range(5,10):\n",
    "    print(i)"
   ]
  },
  {
   "cell_type": "markdown",
   "metadata": {},
   "source": [
    "#### while 循环"
   ]
  },
  {
   "cell_type": "code",
   "execution_count": 38,
   "metadata": {},
   "outputs": [
    {
     "name": "stdout",
     "output_type": "stream",
     "text": [
      "0\n",
      "1\n",
      "2\n",
      "3\n",
      "4\n",
      "5\n",
      "6\n",
      "7\n",
      "8\n",
      "9\n"
     ]
    }
   ],
   "source": [
    "i = 0\n",
    "while i<10:\n",
    "    print(i)\n",
    "    i+=1"
   ]
  },
  {
   "cell_type": "markdown",
   "metadata": {},
   "source": [
    "#### continue break"
   ]
  },
  {
   "cell_type": "code",
   "execution_count": 42,
   "metadata": {},
   "outputs": [
    {
     "name": "stdout",
     "output_type": "stream",
     "text": [
      "2\n",
      "4\n",
      "6\n",
      "8\n",
      "10\n"
     ]
    }
   ],
   "source": [
    "i = 0\n",
    "while True:\n",
    "    i+=1\n",
    "    if i%2 == 0:\n",
    "        print(i)\n",
    "    else:\n",
    "        pass\n",
    "    if i > 10:\n",
    "        break\n",
    "    "
   ]
  },
  {
   "cell_type": "code",
   "execution_count": 40,
   "metadata": {},
   "outputs": [
    {
     "name": "stdout",
     "output_type": "stream",
     "text": [
      "2\n",
      "4\n",
      "6\n",
      "8\n",
      "10\n"
     ]
    }
   ],
   "source": [
    "i = 0\n",
    "while True:\n",
    "    i+=1\n",
    "    if i%2 == 0:\n",
    "        print(i)\n",
    "    if i > 10:\n",
    "        break"
   ]
  },
  {
   "cell_type": "markdown",
   "metadata": {},
   "source": [
    "## 1.5 复杂数据结构"
   ]
  },
  {
   "cell_type": "markdown",
   "metadata": {},
   "source": [
    "### 1.5.1 list 列表"
   ]
  },
  {
   "cell_type": "code",
   "execution_count": 45,
   "metadata": {},
   "outputs": [
    {
     "name": "stdout",
     "output_type": "stream",
     "text": [
      "[]\n",
      "[1, 2.0, 'a', 'b', True]\n"
     ]
    }
   ],
   "source": [
    "l_1 = []\n",
    "l_2 = [1,2.0,'a','b',True]\n",
    "print(l_1)\n",
    "print(l_2)"
   ]
  },
  {
   "cell_type": "code",
   "execution_count": 46,
   "metadata": {},
   "outputs": [
    {
     "name": "stdout",
     "output_type": "stream",
     "text": [
      "[1]\n",
      "[1, 2.0]\n",
      "[1]\n",
      "[1, 2, 3, 4]\n"
     ]
    }
   ],
   "source": [
    "l_1 = []\n",
    "l_1.append(1)\n",
    "print(l_1)\n",
    "l_1.append(2.0)\n",
    "print(l_1)\n",
    "l_1.pop(1)\n",
    "print(l_1)\n",
    "\n",
    "l_1.append(2)\n",
    "l_1.append(3)\n",
    "l_1.append(4)\n",
    "print(l_1)"
   ]
  },
  {
   "cell_type": "code",
   "execution_count": 50,
   "metadata": {},
   "outputs": [],
   "source": [
    "l_1.remove(2)\n"
   ]
  },
  {
   "cell_type": "code",
   "execution_count": 51,
   "metadata": {},
   "outputs": [
    {
     "name": "stdout",
     "output_type": "stream",
     "text": [
      "[1, 3]\n"
     ]
    }
   ],
   "source": [
    "print(l_1)"
   ]
  },
  {
   "cell_type": "code",
   "execution_count": 53,
   "metadata": {},
   "outputs": [
    {
     "name": "stdout",
     "output_type": "stream",
     "text": [
      "3\n",
      "[2, 3]\n",
      "[1, 2]\n",
      "[3, 4]\n"
     ]
    }
   ],
   "source": [
    "l_1 = [1,2,3,4]\n",
    "print(l_1[2])\n",
    "print(l_1[1:3])\n",
    "print(l_1[:2])\n",
    "print(l_1[2:])"
   ]
  },
  {
   "cell_type": "code",
   "execution_count": 54,
   "metadata": {},
   "outputs": [
    {
     "name": "stdout",
     "output_type": "stream",
     "text": [
      "['中文', 2, 3, 'aa']\n"
     ]
    }
   ],
   "source": [
    "l_1[3] = 'aa'\n",
    "l_1[0] = '中文'\n",
    "print(l_1)"
   ]
  },
  {
   "cell_type": "code",
   "execution_count": 55,
   "metadata": {},
   "outputs": [
    {
     "name": "stdout",
     "output_type": "stream",
     "text": [
      "['中文', 2, 3, 'aa']\n",
      "['中文', 2, 3, 'aa']\n",
      "['我改了字符串2', 2, 3, 'aa']\n"
     ]
    }
   ],
   "source": [
    "l_2 = l_1\n",
    "print(l_1)\n",
    "print(l_2)\n",
    "l_2[0] = '我改了字符串2'\n",
    "print(l_2)"
   ]
  },
  {
   "cell_type": "code",
   "execution_count": 56,
   "metadata": {},
   "outputs": [
    {
     "name": "stdout",
     "output_type": "stream",
     "text": [
      "['我改了字符串2', 2, 3, 'aa']\n"
     ]
    }
   ],
   "source": [
    "print(l_1)"
   ]
  },
  {
   "cell_type": "markdown",
   "metadata": {},
   "source": [
    "- 这里特别注意，python中的list，因为可能会很大，所以名字是名字，空间是空间，一个空间可能被叫好几个名字"
   ]
  },
  {
   "cell_type": "code",
   "execution_count": 57,
   "metadata": {},
   "outputs": [
    {
     "name": "stdout",
     "output_type": "stream",
     "text": [
      "['我改了字符串2', 2, 3, 'aa']\n",
      "['我改了字符串2', 2, 3, 'aa']\n",
      "['改回去', 2, 3, 'aa']\n",
      "['我改了字符串2', 2, 3, 'aa']\n"
     ]
    }
   ],
   "source": [
    "l_2 = l_1.copy()\n",
    "print(l_2)\n",
    "print(l_1)\n",
    "l_2[0] = '改回去'\n",
    "print(l_2)\n",
    "print(l_1)"
   ]
  },
  {
   "cell_type": "code",
   "execution_count": 58,
   "metadata": {},
   "outputs": [
    {
     "name": "stdout",
     "output_type": "stream",
     "text": [
      "['我改了字符串2', 2, 3, 'aa']\n",
      "['我改了字符串2', 2, 3, 'aa']\n",
      "['我改了字符串2', 2, 3, 'aa']\n",
      "['2又改了', 2, 3, 'aa']\n",
      "['3又改了', 2, 3, 'aa']\n",
      "['我改了字符串2', '这回是1改了', 3, 'aa']\n",
      "['2又改了', 2, 3, 'aa']\n",
      "['3又改了', 2, 3, 'aa']\n"
     ]
    }
   ],
   "source": [
    "l_2 = []\n",
    "l_3 = []\n",
    "for li in l_1:\n",
    "    l_2.append(li)\n",
    "for lindex in range(len(l_1)):\n",
    "    l_3.append(l_1[lindex])\n",
    "print(l_2)\n",
    "print(l_3)\n",
    "\n",
    "l_2[0] = '2又改了'\n",
    "l_3[0] = '3又改了'\n",
    "print(l_1)\n",
    "print(l_2)\n",
    "print(l_3)\n",
    "\n",
    "l_1[1] ='这回是1改了'\n",
    "print(l_1)\n",
    "print(l_2)\n",
    "print(l_3)\n"
   ]
  },
  {
   "cell_type": "code",
   "execution_count": 118,
   "metadata": {},
   "outputs": [
    {
     "name": "stdout",
     "output_type": "stream",
     "text": [
      "我改了字符串2\n",
      "这回是1改了\n",
      "3\n",
      "aa\n",
      "\n",
      "我改了字符串2\n",
      "这回是1改了\n",
      "3\n",
      "aa\n"
     ]
    }
   ],
   "source": [
    "for li in l_1:\n",
    "    print(li)\n",
    "    \n",
    "    \n",
    "print()\n",
    "for li in range(len(l_1)):\n",
    "    print(l_1[li])"
   ]
  },
  {
   "cell_type": "code",
   "execution_count": 119,
   "metadata": {},
   "outputs": [
    {
     "name": "stdout",
     "output_type": "stream",
     "text": [
      "[0, 1, 2, 3, 4, 5, 6, 7, 8, 9, 10, 11, 12, 13, 14, 15, 16, 17, 18, 19]\n",
      "[0, 2, 4, 6, 8, 10, 12, 14]\n",
      "[0, 3, 6, 9, 12]\n"
     ]
    }
   ],
   "source": [
    "l_num = list(range(20))\n",
    "print(l_num)\n",
    "print(l_num[0:15:2])\n",
    "print(l_num[0:15:3])"
   ]
  },
  {
   "cell_type": "markdown",
   "metadata": {},
   "source": [
    "### 1.5.2 dict 字典"
   ]
  },
  {
   "cell_type": "code",
   "execution_count": 59,
   "metadata": {},
   "outputs": [
    {
     "name": "stdout",
     "output_type": "stream",
     "text": [
      "{}\n",
      "{'a': 1, 2: 'b', 'c': 3}\n",
      "{'c': 3}\n"
     ]
    }
   ],
   "source": [
    "d_1 = {}\n",
    "d_2 = {'a':1,2:'b','c':'第三个','c':3}\n",
    "print(d_1)\n",
    "print(d_2)\n",
    "d_1['c'] = 3\n",
    "print(d_1)"
   ]
  },
  {
   "cell_type": "code",
   "execution_count": 60,
   "metadata": {},
   "outputs": [
    {
     "name": "stdout",
     "output_type": "stream",
     "text": [
      "{}\n"
     ]
    }
   ],
   "source": [
    "d_1.pop('c')\n",
    "print(d_1)"
   ]
  },
  {
   "cell_type": "code",
   "execution_count": 130,
   "metadata": {},
   "outputs": [
    {
     "name": "stdout",
     "output_type": "stream",
     "text": [
      "b\n"
     ]
    }
   ],
   "source": [
    "print(d_2[2])"
   ]
  },
  {
   "cell_type": "code",
   "execution_count": 131,
   "metadata": {},
   "outputs": [
    {
     "name": "stdout",
     "output_type": "stream",
     "text": [
      "b\n"
     ]
    }
   ],
   "source": [
    "print(d_2[2.0])"
   ]
  },
  {
   "cell_type": "code",
   "execution_count": 132,
   "metadata": {},
   "outputs": [
    {
     "name": "stdout",
     "output_type": "stream",
     "text": [
      "b\n"
     ]
    }
   ],
   "source": [
    "print(d_2[10/5])"
   ]
  },
  {
   "cell_type": "code",
   "execution_count": 61,
   "metadata": {},
   "outputs": [
    {
     "name": "stdout",
     "output_type": "stream",
     "text": [
      "{'a': 1, 2: 'B', 'c': 3}\n",
      "{'a': 1, 2: 'B', 'c': 3, 2.1: 'B+'}\n",
      "{'a': 1, 2: 'b', 'c': 3, 2.1: 'B+'}\n"
     ]
    }
   ],
   "source": [
    "d_2[float(2.0)] = 'B'\n",
    "print(d_2)\n",
    "d_2[2.1] = 'B+'\n",
    "print(d_2)\n",
    "d_2[2] = 'b'\n",
    "print(d_2)"
   ]
  },
  {
   "cell_type": "code",
   "execution_count": 62,
   "metadata": {},
   "outputs": [
    {
     "name": "stdout",
     "output_type": "stream",
     "text": [
      "{2: 'b', 'c': 3, 2.1: 'B+'}\n"
     ]
    }
   ],
   "source": [
    "d_2.pop('a')\n",
    "print(d_2)"
   ]
  },
  {
   "cell_type": "code",
   "execution_count": 136,
   "metadata": {},
   "outputs": [
    {
     "name": "stdout",
     "output_type": "stream",
     "text": [
      "2   b\n",
      "c   3\n",
      "2.1   B+\n",
      "2   b\n",
      "c   3\n",
      "2.1   B+\n"
     ]
    }
   ],
   "source": [
    "for key in d_2:\n",
    "    print(key,' ',d_2[key])\n",
    "for k,v in d_2.items():\n",
    "    print(k,' ',v)"
   ]
  },
  {
   "cell_type": "code",
   "execution_count": 63,
   "metadata": {},
   "outputs": [
    {
     "name": "stdout",
     "output_type": "stream",
     "text": [
      "{2: 'b', 'c': 3, 2.1: 'B+'}\n"
     ]
    }
   ],
   "source": [
    "print(d_2)"
   ]
  },
  {
   "cell_type": "code",
   "execution_count": 65,
   "metadata": {},
   "outputs": [
    {
     "ename": "KeyError",
     "evalue": "3",
     "output_type": "error",
     "traceback": [
      "\u001b[0;31m---------------------------------------------------------------------------\u001b[0m",
      "\u001b[0;31mKeyError\u001b[0m                                  Traceback (most recent call last)",
      "\u001b[0;32m<ipython-input-65-4b7ae95093d3>\u001b[0m in \u001b[0;36m<module>\u001b[0;34m\u001b[0m\n\u001b[0;32m----> 1\u001b[0;31m \u001b[0mprint\u001b[0m\u001b[0;34m(\u001b[0m\u001b[0md_2\u001b[0m\u001b[0;34m[\u001b[0m\u001b[0;36m3\u001b[0m\u001b[0;34m]\u001b[0m\u001b[0;34m)\u001b[0m\u001b[0;34m\u001b[0m\u001b[0;34m\u001b[0m\u001b[0m\n\u001b[0m",
      "\u001b[0;31mKeyError\u001b[0m: 3"
     ]
    }
   ],
   "source": [
    "print(d_2[3])"
   ]
  },
  {
   "cell_type": "code",
   "execution_count": 137,
   "metadata": {},
   "outputs": [
    {
     "name": "stdout",
     "output_type": "stream",
     "text": [
      "True\n",
      "False\n"
     ]
    }
   ],
   "source": [
    "print(2 in d_2)\n",
    "print('2' in d_2)"
   ]
  },
  {
   "cell_type": "code",
   "execution_count": null,
   "metadata": {},
   "outputs": [],
   "source": [
    "for li in ll:\n",
    "    if li in dk:\n",
    "        print(dk[li])"
   ]
  },
  {
   "cell_type": "code",
   "execution_count": 143,
   "metadata": {},
   "outputs": [
    {
     "name": "stdout",
     "output_type": "stream",
     "text": [
      "{2: 'b', 'c': 3, 2.1: 'B+'}\n",
      "b\n",
      "None\n"
     ]
    }
   ],
   "source": [
    "print(d_2)\n",
    "print(d_2.get(2))\n",
    "print(d_2.get('2'))"
   ]
  },
  {
   "cell_type": "code",
   "execution_count": 67,
   "metadata": {},
   "outputs": [
    {
     "name": "stdout",
     "output_type": "stream",
     "text": [
      "10 \t 100\n",
      "9 \t 101\n",
      "8 \t 102\n",
      "7 \t 103\n",
      "6 \t 104\n",
      "5 \t 105\n",
      "4 \t 106\n",
      "3 \t 107\n",
      "2 \t 108\n",
      "1 \t 109\n"
     ]
    }
   ],
   "source": [
    "new_dic = {}\n",
    "for li in range(10):\n",
    "    new_dic[10-li] = li+100\n",
    "for nk in new_dic:\n",
    "    print(nk,'\\t',new_dic[nk])"
   ]
  },
  {
   "cell_type": "markdown",
   "metadata": {},
   "source": [
    "### 1.5.3 tuple 元组  set 集合"
   ]
  },
  {
   "cell_type": "code",
   "execution_count": 70,
   "metadata": {},
   "outputs": [
    {
     "name": "stdout",
     "output_type": "stream",
     "text": [
      "[1, 2, 3, 4, 5, 4]\n",
      "(1, 2, 3, 4, 5, 4)\n",
      "{1, 2, 3, 4, 5}\n"
     ]
    }
   ],
   "source": [
    "l_1 = [1,2,3,4,5,4]\n",
    "t_1 = (1,2,3,4,5,4)\n",
    "s_1 = {1,2,3,4,5,4}\n",
    "print(l_1)\n",
    "print(t_1)\n",
    "print(s_1)"
   ]
  },
  {
   "cell_type": "code",
   "execution_count": 71,
   "metadata": {},
   "outputs": [
    {
     "name": "stdout",
     "output_type": "stream",
     "text": [
      "1\n",
      "(3, 4, 5)\n"
     ]
    },
    {
     "ename": "TypeError",
     "evalue": "'set' object is not subscriptable",
     "output_type": "error",
     "traceback": [
      "\u001b[0;31m---------------------------------------------------------------------------\u001b[0m",
      "\u001b[0;31mTypeError\u001b[0m                                 Traceback (most recent call last)",
      "\u001b[0;32m<ipython-input-71-53ff520a8bb4>\u001b[0m in \u001b[0;36m<module>\u001b[0;34m\u001b[0m\n\u001b[1;32m      1\u001b[0m \u001b[0mprint\u001b[0m\u001b[0;34m(\u001b[0m\u001b[0mt_1\u001b[0m\u001b[0;34m[\u001b[0m\u001b[0;36m0\u001b[0m\u001b[0;34m]\u001b[0m\u001b[0;34m)\u001b[0m\u001b[0;34m\u001b[0m\u001b[0;34m\u001b[0m\u001b[0m\n\u001b[1;32m      2\u001b[0m \u001b[0mprint\u001b[0m\u001b[0;34m(\u001b[0m\u001b[0mt_1\u001b[0m\u001b[0;34m[\u001b[0m\u001b[0;36m2\u001b[0m\u001b[0;34m:\u001b[0m\u001b[0;34m-\u001b[0m\u001b[0;36m1\u001b[0m\u001b[0;34m]\u001b[0m\u001b[0;34m)\u001b[0m\u001b[0;34m\u001b[0m\u001b[0;34m\u001b[0m\u001b[0m\n\u001b[0;32m----> 3\u001b[0;31m \u001b[0mprint\u001b[0m\u001b[0;34m(\u001b[0m\u001b[0ms_1\u001b[0m\u001b[0;34m[\u001b[0m\u001b[0;36m0\u001b[0m\u001b[0;34m]\u001b[0m\u001b[0;34m)\u001b[0m\u001b[0;34m\u001b[0m\u001b[0;34m\u001b[0m\u001b[0m\n\u001b[0m\u001b[1;32m      4\u001b[0m \u001b[0mprint\u001b[0m\u001b[0;34m(\u001b[0m\u001b[0ms_1\u001b[0m\u001b[0;34m[\u001b[0m\u001b[0;36m2\u001b[0m\u001b[0;34m:\u001b[0m\u001b[0;34m-\u001b[0m\u001b[0;36m1\u001b[0m\u001b[0;34m]\u001b[0m\u001b[0;34m)\u001b[0m\u001b[0;34m\u001b[0m\u001b[0;34m\u001b[0m\u001b[0m\n",
      "\u001b[0;31mTypeError\u001b[0m: 'set' object is not subscriptable"
     ]
    }
   ],
   "source": [
    "print(t_1[0])\n",
    "print(t_1[2:-1])\n",
    "print(s_1[0])\n",
    "print(s_1[2:-1])"
   ]
  },
  {
   "cell_type": "code",
   "execution_count": 72,
   "metadata": {},
   "outputs": [
    {
     "name": "stdout",
     "output_type": "stream",
     "text": [
      "{1, 3, 4, 5}\n"
     ]
    },
    {
     "ename": "TypeError",
     "evalue": "'tuple' object does not support item assignment",
     "output_type": "error",
     "traceback": [
      "\u001b[0;31m---------------------------------------------------------------------------\u001b[0m",
      "\u001b[0;31mTypeError\u001b[0m                                 Traceback (most recent call last)",
      "\u001b[0;32m<ipython-input-72-d1166deb9470>\u001b[0m in \u001b[0;36m<module>\u001b[0;34m\u001b[0m\n\u001b[1;32m      1\u001b[0m \u001b[0ms_1\u001b[0m\u001b[0;34m.\u001b[0m\u001b[0mremove\u001b[0m\u001b[0;34m(\u001b[0m\u001b[0;36m2\u001b[0m\u001b[0;34m)\u001b[0m\u001b[0;34m\u001b[0m\u001b[0;34m\u001b[0m\u001b[0m\n\u001b[1;32m      2\u001b[0m \u001b[0mprint\u001b[0m\u001b[0;34m(\u001b[0m\u001b[0ms_1\u001b[0m\u001b[0;34m)\u001b[0m\u001b[0;34m\u001b[0m\u001b[0;34m\u001b[0m\u001b[0m\n\u001b[0;32m----> 3\u001b[0;31m \u001b[0mt_1\u001b[0m\u001b[0;34m[\u001b[0m\u001b[0;36m0\u001b[0m\u001b[0;34m]\u001b[0m \u001b[0;34m=\u001b[0m \u001b[0;34m'a'\u001b[0m\u001b[0;34m\u001b[0m\u001b[0;34m\u001b[0m\u001b[0m\n\u001b[0m",
      "\u001b[0;31mTypeError\u001b[0m: 'tuple' object does not support item assignment"
     ]
    }
   ],
   "source": [
    "s_1.remove(2)\n",
    "print(s_1)\n",
    "t_1[0] = 'a'"
   ]
  },
  {
   "cell_type": "code",
   "execution_count": 73,
   "metadata": {},
   "outputs": [
    {
     "name": "stdout",
     "output_type": "stream",
     "text": [
      "{1, 2, 3, 4, 5}\n",
      "{5}\n"
     ]
    }
   ],
   "source": [
    "s_1 = {1,3,4,5}\n",
    "s_2 = {2,3,4}\n",
    "s_3 = {2,5}\n",
    "\n",
    "s_4 = s_1 | s_2\n",
    "s_5 = s_1 & s_3\n",
    "print(s_4)\n",
    "print(s_5)"
   ]
  },
  {
   "cell_type": "markdown",
   "metadata": {},
   "source": [
    "- tuple 元素不可以更改，可以认为是只读的list，这些年我只在网格数据中遇到过\n",
    "- set 集合数据一方面可以自动去重，另一方面对于集合运算也很友好\n",
    "- 这些只读什么的很虚伪"
   ]
  },
  {
   "cell_type": "code",
   "execution_count": 153,
   "metadata": {},
   "outputs": [
    {
     "name": "stdout",
     "output_type": "stream",
     "text": [
      "('嘿嘿嘿', 2, 3, 5)\n",
      "(1, 2, 3, 5)\n",
      "['嘿嘿嘿', '哈哈哈', 3, 5]\n",
      "('嘿嘿嘿', 2, 3, 5)\n"
     ]
    }
   ],
   "source": [
    "t_1 = (1,2,3,5)\n",
    "l_1 = list(t_1)\n",
    "l_1[0] = '嘿嘿嘿'\n",
    "t_2 = tuple(s_1)\n",
    "print(t_2)\n",
    "print(t_1)\n",
    "l_1[1] = '哈哈哈'\n",
    "print(l_1)\n",
    "print(t_2)\n",
    "\n"
   ]
  },
  {
   "cell_type": "code",
   "execution_count": 74,
   "metadata": {},
   "outputs": [
    {
     "name": "stdout",
     "output_type": "stream",
     "text": [
      "[0, 1, 2, 3, 4, 5, 6, 7, 8, 9, 0, 1, 2, 3, 4, 5, 6, 7, 8, 9, 0, 1, 2, 3, 4, 5, 6, 7, 8, 9, 0, 1, 2, 3, 4, 5, 6, 7, 8, 9, 0, 1, 2, 3, 4, 5, 6, 7, 8, 9, 0, 1, 2, 3, 4, 5, 6, 7, 8, 9, 0, 1, 2, 3, 4, 5, 6, 7, 8, 9, 0, 1, 2, 3, 4, 5, 6, 7, 8, 9, 0, 1, 2, 3, 4, 5, 6, 7, 8, 9, 0, 1, 2, 3, 4, 5, 6, 7, 8, 9]\n",
      "[0, 1, 2, 3, 4, 5, 6, 7, 8, 9]\n"
     ]
    }
   ],
   "source": [
    "t_l = []\n",
    "for ii in range(100):\n",
    "    t_l.append(ii%10)\n",
    "print(t_l)\n",
    "t_s = set(t_l)\n",
    "t_l = list(t_s)\n",
    "print(t_l)"
   ]
  },
  {
   "cell_type": "markdown",
   "metadata": {},
   "source": [
    "### 1.5.4 列表字典嵌套"
   ]
  },
  {
   "cell_type": "code",
   "execution_count": 78,
   "metadata": {},
   "outputs": [],
   "source": [
    "l1 = [['李磊',25,[{'name':'韩梅梅','age':'23'}]],['王二蛋',21,[]],['朱一旦',35,[{'name':'赵大','age':'23'},{'name':'钱二','age':'21','ex':['周五','吴六','郑七']}]]]"
   ]
  },
  {
   "cell_type": "code",
   "execution_count": 79,
   "metadata": {},
   "outputs": [
    {
     "name": "stdout",
     "output_type": "stream",
     "text": [
      "[['李磊', 25, [{'name': '韩梅梅', 'age': '23'}]], ['王二蛋', 21, []], ['朱一旦', 35, [{'name': '赵大', 'age': '23'}, {'name': '钱二', 'age': '21', 'ex': ['周五', '吴六', '郑七']}]]]\n"
     ]
    }
   ],
   "source": [
    "print(l1)"
   ]
  },
  {
   "cell_type": "code",
   "execution_count": 75,
   "metadata": {},
   "outputs": [],
   "source": [
    "import json"
   ]
  },
  {
   "cell_type": "code",
   "execution_count": 80,
   "metadata": {},
   "outputs": [
    {
     "name": "stdout",
     "output_type": "stream",
     "text": [
      "[\n",
      "    [\n",
      "        \"李磊\",\n",
      "        25,\n",
      "        [\n",
      "            {\n",
      "                \"age\":\"23\",\n",
      "                \"name\":\"韩梅梅\"\n",
      "            }\n",
      "        ]\n",
      "    ],\n",
      "    [\n",
      "        \"王二蛋\",\n",
      "        21,\n",
      "        []\n",
      "    ],\n",
      "    [\n",
      "        \"朱一旦\",\n",
      "        35,\n",
      "        [\n",
      "            {\n",
      "                \"age\":\"23\",\n",
      "                \"name\":\"赵大\"\n",
      "            },\n",
      "            {\n",
      "                \"age\":\"21\",\n",
      "                \"ex\":[\n",
      "                    \"周五\",\n",
      "                    \"吴六\",\n",
      "                    \"郑七\"\n",
      "                ],\n",
      "                \"name\":\"钱二\"\n",
      "            }\n",
      "        ]\n",
      "    ]\n",
      "]\n"
     ]
    }
   ],
   "source": [
    "js = json.dumps(l1, sort_keys=True, indent=4, separators=(',', ':'),ensure_ascii=False)\n",
    "print(js)"
   ]
  },
  {
   "cell_type": "code",
   "execution_count": 81,
   "metadata": {},
   "outputs": [],
   "source": [
    "all_res = []\n",
    "for ii in range(10):\n",
    "    this_line = {}\n",
    "    this_line['num'] = ii\n",
    "    this_line['奇偶'] = 0   #0是奇数\n",
    "    if ii % 2 == 0:\n",
    "        this_line['奇偶'] = 1\n",
    "    all_res.append(this_line)"
   ]
  },
  {
   "cell_type": "code",
   "execution_count": 82,
   "metadata": {},
   "outputs": [
    {
     "name": "stdout",
     "output_type": "stream",
     "text": [
      "[\n",
      "    {\n",
      "        \"num\":0,\n",
      "        \"奇偶\":1\n",
      "    },\n",
      "    {\n",
      "        \"num\":1,\n",
      "        \"奇偶\":0\n",
      "    },\n",
      "    {\n",
      "        \"num\":2,\n",
      "        \"奇偶\":1\n",
      "    },\n",
      "    {\n",
      "        \"num\":3,\n",
      "        \"奇偶\":0\n",
      "    },\n",
      "    {\n",
      "        \"num\":4,\n",
      "        \"奇偶\":1\n",
      "    },\n",
      "    {\n",
      "        \"num\":5,\n",
      "        \"奇偶\":0\n",
      "    },\n",
      "    {\n",
      "        \"num\":6,\n",
      "        \"奇偶\":1\n",
      "    },\n",
      "    {\n",
      "        \"num\":7,\n",
      "        \"奇偶\":0\n",
      "    },\n",
      "    {\n",
      "        \"num\":8,\n",
      "        \"奇偶\":1\n",
      "    },\n",
      "    {\n",
      "        \"num\":9,\n",
      "        \"奇偶\":0\n",
      "    }\n",
      "]\n"
     ]
    }
   ],
   "source": [
    "js = json.dumps(all_res, sort_keys=True, indent=4, separators=(',', ':'),ensure_ascii=False)\n",
    "print(js)"
   ]
  },
  {
   "cell_type": "code",
   "execution_count": 83,
   "metadata": {},
   "outputs": [],
   "source": [
    "all_res = []\n",
    "this_line = {}\n",
    "for ii in range(10):\n",
    "    \n",
    "    this_line['num'] = ii\n",
    "    this_line['奇偶'] = 0   #0是奇数\n",
    "    if ii % 2 == 0:\n",
    "        this_line['奇偶'] = 1\n",
    "    all_res.append(this_line)"
   ]
  },
  {
   "cell_type": "code",
   "execution_count": 84,
   "metadata": {},
   "outputs": [
    {
     "name": "stdout",
     "output_type": "stream",
     "text": [
      "[\n",
      "    {\n",
      "        \"num\":9,\n",
      "        \"奇偶\":0\n",
      "    },\n",
      "    {\n",
      "        \"num\":9,\n",
      "        \"奇偶\":0\n",
      "    },\n",
      "    {\n",
      "        \"num\":9,\n",
      "        \"奇偶\":0\n",
      "    },\n",
      "    {\n",
      "        \"num\":9,\n",
      "        \"奇偶\":0\n",
      "    },\n",
      "    {\n",
      "        \"num\":9,\n",
      "        \"奇偶\":0\n",
      "    },\n",
      "    {\n",
      "        \"num\":9,\n",
      "        \"奇偶\":0\n",
      "    },\n",
      "    {\n",
      "        \"num\":9,\n",
      "        \"奇偶\":0\n",
      "    },\n",
      "    {\n",
      "        \"num\":9,\n",
      "        \"奇偶\":0\n",
      "    },\n",
      "    {\n",
      "        \"num\":9,\n",
      "        \"奇偶\":0\n",
      "    },\n",
      "    {\n",
      "        \"num\":9,\n",
      "        \"奇偶\":0\n",
      "    }\n",
      "]\n"
     ]
    }
   ],
   "source": [
    "js = json.dumps(all_res, sort_keys=True, indent=4, separators=(',', ':'),ensure_ascii=False)\n",
    "print(js)"
   ]
  },
  {
   "cell_type": "code",
   "execution_count": 87,
   "metadata": {},
   "outputs": [],
   "source": [
    "root_dir = '/Users/wjy/python/course/中文/'"
   ]
  },
  {
   "cell_type": "code",
   "execution_count": 5,
   "metadata": {},
   "outputs": [],
   "source": [
    "import numpy as np\n",
    "import gensim"
   ]
  },
  {
   "cell_type": "code",
   "execution_count": null,
   "metadata": {},
   "outputs": [],
   "source": []
  },
  {
   "cell_type": "code",
   "execution_count": 4,
   "metadata": {},
   "outputs": [
    {
     "name": "stdout",
     "output_type": "stream",
     "text": [
      "/Users/wjy/course\r\n"
     ]
    }
   ],
   "source": [
    "!pwd"
   ]
  },
  {
   "cell_type": "code",
   "execution_count": 88,
   "metadata": {},
   "outputs": [],
   "source": [
    "with open(root_dir+'exs'+str(1)+ '.json','wb+') as f:\n",
    "    f.write(json.dumps(l1).encode('utf-8'))"
   ]
  },
  {
   "cell_type": "code",
   "execution_count": 89,
   "metadata": {},
   "outputs": [
    {
     "ename": "FileNotFoundError",
     "evalue": "[Errno 2] No such file or directory: '/Users/wjy/python/course/中文/exs.json'",
     "output_type": "error",
     "traceback": [
      "\u001b[0;31m---------------------------------------------------------------------------\u001b[0m",
      "\u001b[0;31mFileNotFoundError\u001b[0m                         Traceback (most recent call last)",
      "\u001b[0;32m<ipython-input-89-f549368dc927>\u001b[0m in \u001b[0;36m<module>\u001b[0;34m\u001b[0m\n\u001b[0;32m----> 1\u001b[0;31m \u001b[0ml2\u001b[0m \u001b[0;34m=\u001b[0m \u001b[0mjson\u001b[0m\u001b[0;34m.\u001b[0m\u001b[0mload\u001b[0m\u001b[0;34m(\u001b[0m\u001b[0mopen\u001b[0m\u001b[0;34m(\u001b[0m\u001b[0mroot_dir\u001b[0m\u001b[0;34m+\u001b[0m\u001b[0;34m'exs.json'\u001b[0m\u001b[0;34m)\u001b[0m\u001b[0;34m)\u001b[0m\u001b[0;34m\u001b[0m\u001b[0;34m\u001b[0m\u001b[0m\n\u001b[0m",
      "\u001b[0;31mFileNotFoundError\u001b[0m: [Errno 2] No such file or directory: '/Users/wjy/python/course/中文/exs.json'"
     ]
    }
   ],
   "source": [
    "l2 = json.load(open(root_dir+'exs.json'))"
   ]
  },
  {
   "cell_type": "code",
   "execution_count": 90,
   "metadata": {},
   "outputs": [
    {
     "ename": "NameError",
     "evalue": "name 'l2' is not defined",
     "output_type": "error",
     "traceback": [
      "\u001b[0;31m---------------------------------------------------------------------------\u001b[0m",
      "\u001b[0;31mNameError\u001b[0m                                 Traceback (most recent call last)",
      "\u001b[0;32m<ipython-input-90-fe0e377ca3f8>\u001b[0m in \u001b[0;36m<module>\u001b[0;34m\u001b[0m\n\u001b[0;32m----> 1\u001b[0;31m \u001b[0mprint\u001b[0m\u001b[0;34m(\u001b[0m\u001b[0ml2\u001b[0m\u001b[0;34m)\u001b[0m\u001b[0;34m\u001b[0m\u001b[0;34m\u001b[0m\u001b[0m\n\u001b[0m",
      "\u001b[0;31mNameError\u001b[0m: name 'l2' is not defined"
     ]
    }
   ],
   "source": [
    "print(l2)"
   ]
  },
  {
   "cell_type": "markdown",
   "metadata": {},
   "source": [
    "# 2函数"
   ]
  },
  {
   "cell_type": "markdown",
   "metadata": {},
   "source": [
    "- 如果说程序是盖一间房子，那么上面所述的都是一块块砖，下面的就是一些预制件\n",
    "- 人类的本质的是复读机，人类的底层属性是懒，而程序就是解决复读和懒之间矛盾的"
   ]
  },
  {
   "cell_type": "markdown",
   "metadata": {},
   "source": [
    "## 2.1 内置函数"
   ]
  },
  {
   "cell_type": "code",
   "execution_count": 174,
   "metadata": {},
   "outputs": [
    {
     "name": "stdout",
     "output_type": "stream",
     "text": [
      "2\n",
      "4\n",
      "1\n",
      "4\n"
     ]
    }
   ],
   "source": [
    "print(int(2.0))\n",
    "print(abs(-4))\n",
    "print(min([1,2,3,4]))\n",
    "print(max([1,2,3,4]))"
   ]
  },
  {
   "cell_type": "markdown",
   "metadata": {},
   "source": [
    "- 还有一些需要导入模块，比如之前的json"
   ]
  },
  {
   "cell_type": "code",
   "execution_count": 91,
   "metadata": {},
   "outputs": [
    {
     "name": "stdout",
     "output_type": "stream",
     "text": [
      "[2, 6, 1, 3, 5, 4]\n",
      "[4, 5, 2, 6, 1, 3]\n",
      "[5, 4, 6, 1, 2, 3]\n",
      "[6, 1, 5, 3, 4, 2]\n"
     ]
    }
   ],
   "source": [
    "import random\n",
    "l_1 = [1,2,3,4,5,6]\n",
    "random.shuffle(l_1)\n",
    "print(l_1)\n",
    "random.shuffle(l_1)\n",
    "print(l_1)\n",
    "random.shuffle(l_1)\n",
    "print(l_1)\n",
    "random.shuffle(l_1)\n",
    "print(l_1)"
   ]
  },
  {
   "cell_type": "markdown",
   "metadata": {},
   "source": [
    "## 2.2 自己写函数"
   ]
  },
  {
   "cell_type": "code",
   "execution_count": 95,
   "metadata": {},
   "outputs": [],
   "source": [
    "def my_func(a,b):\n",
    "    c = a**2 + b**2\n",
    "    return c**0.5\n",
    "def func2():\n",
    "    pass"
   ]
  },
  {
   "cell_type": "code",
   "execution_count": 94,
   "metadata": {},
   "outputs": [
    {
     "name": "stdout",
     "output_type": "stream",
     "text": [
      "5.0\n"
     ]
    }
   ],
   "source": [
    "print(my_func(3,4))"
   ]
  },
  {
   "cell_type": "code",
   "execution_count": 96,
   "metadata": {},
   "outputs": [
    {
     "name": "stdout",
     "output_type": "stream",
     "text": [
      "5.0\n",
      "[12, 13, 14]\n"
     ]
    }
   ],
   "source": [
    "a = 12\n",
    "b = 13\n",
    "c = 14\n",
    "print(my_func(3,4))\n",
    "print([a,b,c])"
   ]
  },
  {
   "cell_type": "code",
   "execution_count": 97,
   "metadata": {},
   "outputs": [],
   "source": [
    "def my_func_2(a,b,cont):\n",
    "    c = a**2 + b**2\n",
    "    return c**0.5*cont"
   ]
  },
  {
   "cell_type": "code",
   "execution_count": 99,
   "metadata": {},
   "outputs": [
    {
     "ename": "TypeError",
     "evalue": "my_func_2() missing 1 required positional argument: 'cont'",
     "output_type": "error",
     "traceback": [
      "\u001b[0;31m---------------------------------------------------------------------------\u001b[0m",
      "\u001b[0;31mTypeError\u001b[0m                                 Traceback (most recent call last)",
      "\u001b[0;32m<ipython-input-99-2823d7276e0e>\u001b[0m in \u001b[0;36m<module>\u001b[0;34m\u001b[0m\n\u001b[0;32m----> 1\u001b[0;31m \u001b[0mprint\u001b[0m\u001b[0;34m(\u001b[0m\u001b[0mmy_func_2\u001b[0m\u001b[0;34m(\u001b[0m\u001b[0;36m3\u001b[0m\u001b[0;34m,\u001b[0m\u001b[0;36m4\u001b[0m\u001b[0;34m)\u001b[0m\u001b[0;34m)\u001b[0m\u001b[0;34m\u001b[0m\u001b[0;34m\u001b[0m\u001b[0m\n\u001b[0m",
      "\u001b[0;31mTypeError\u001b[0m: my_func_2() missing 1 required positional argument: 'cont'"
     ]
    }
   ],
   "source": [
    "print(my_func_2(3,4))"
   ]
  },
  {
   "cell_type": "code",
   "execution_count": 98,
   "metadata": {},
   "outputs": [
    {
     "name": "stdout",
     "output_type": "stream",
     "text": [
      "5.0\n"
     ]
    }
   ],
   "source": [
    "print(my_func_2(3,4,1))"
   ]
  },
  {
   "cell_type": "code",
   "execution_count": 100,
   "metadata": {},
   "outputs": [],
   "source": [
    "def my_func_3(a,b,cont=1):\n",
    "    c = a**2 + b**2\n",
    "    return c**0.5*cont"
   ]
  },
  {
   "cell_type": "code",
   "execution_count": 101,
   "metadata": {},
   "outputs": [
    {
     "name": "stdout",
     "output_type": "stream",
     "text": [
      "5.0\n",
      "5.0\n",
      "-5.0\n"
     ]
    }
   ],
   "source": [
    "print(my_func_3(3,4))\n",
    "print(my_func_3(3,4,1))\n",
    "print(my_func_3(3,4,-1))"
   ]
  },
  {
   "cell_type": "markdown",
   "metadata": {},
   "source": [
    "函数一方面可以避免重复劳动，另一方面也可以玩一些花活"
   ]
  },
  {
   "cell_type": "markdown",
   "metadata": {},
   "source": [
    "来玩一个斐波那契数列吧"
   ]
  },
  {
   "cell_type": "code",
   "execution_count": 102,
   "metadata": {},
   "outputs": [],
   "source": [
    "def fib(n):\n",
    "    if n <= 2:\n",
    "        return 1\n",
    "    tl = [1,1]\n",
    "    for ii in range(2,n):\n",
    "        tl.append(tl[-1]+tl[-2])\n",
    "    #print(tl)\n",
    "    return tl[-1]"
   ]
  },
  {
   "cell_type": "code",
   "execution_count": 103,
   "metadata": {},
   "outputs": [
    {
     "name": "stdout",
     "output_type": "stream",
     "text": [
      "55\n"
     ]
    }
   ],
   "source": [
    "print(fib(10))"
   ]
  },
  {
   "cell_type": "code",
   "execution_count": 104,
   "metadata": {},
   "outputs": [],
   "source": [
    "def fib_r(n):\n",
    "    if n <= 2:\n",
    "        return 1\n",
    "    return fib_r(n-1)+fib_r(n-2)\n"
   ]
  },
  {
   "cell_type": "code",
   "execution_count": 105,
   "metadata": {},
   "outputs": [
    {
     "name": "stdout",
     "output_type": "stream",
     "text": [
      "55\n"
     ]
    }
   ],
   "source": [
    "print(fib_r(10))"
   ]
  },
  {
   "cell_type": "code",
   "execution_count": 106,
   "metadata": {},
   "outputs": [],
   "source": [
    "def fib_rp(n):\n",
    "    print('收到n='+str(n))\n",
    "    if n <= 2:\n",
    "        return 1\n",
    "    return fib_rp(n-1)+fib_rp(n-2)\n"
   ]
  },
  {
   "cell_type": "code",
   "execution_count": 108,
   "metadata": {
    "scrolled": false
   },
   "outputs": [
    {
     "name": "stdout",
     "output_type": "stream",
     "text": [
      "收到n=5\n",
      "收到n=4\n",
      "收到n=3\n",
      "收到n=2\n",
      "收到n=1\n",
      "收到n=2\n",
      "收到n=3\n",
      "收到n=2\n",
      "收到n=1\n",
      "5\n"
     ]
    }
   ],
   "source": [
    "print(fib_rp(5))"
   ]
  },
  {
   "cell_type": "markdown",
   "metadata": {},
   "source": [
    "### 这就是递龟"
   ]
  },
  {
   "cell_type": "markdown",
   "metadata": {},
   "source": [
    "![a0.png](a0.png)"
   ]
  },
  {
   "cell_type": "markdown",
   "metadata": {},
   "source": [
    "### 抱歉 是递归"
   ]
  },
  {
   "cell_type": "markdown",
   "metadata": {},
   "source": [
    "![a1.png](a1.png)"
   ]
  },
  {
   "cell_type": "markdown",
   "metadata": {},
   "source": [
    "### 作业题1：汉诺塔"
   ]
  },
  {
   "cell_type": "markdown",
   "metadata": {},
   "source": [
    "![a2.png](a3.png)"
   ]
  },
  {
   "cell_type": "markdown",
   "metadata": {},
   "source": [
    "### 作业题2：乐高人像画"
   ]
  },
  {
   "cell_type": "markdown",
   "metadata": {},
   "source": [
    "### 如何把一张人像图转化为乐高\n",
    "- 图片的读取 （我会给你们示例\n",
    "- 照片颜色和乐高块的颜色，转换映射 （乐高块的颜色我会给你们，颜色映射这个需要你们找（wiki很不错）\n",
    "- 一张图片是一个64*64的点，每一个点是一个(R,G,B)三个值表示的颜色\n",
    "- 1*1 的小方块很贵，能不能尽量使用大块（最大是4*2）\n",
    "- 打一份效果图以免挨揍\n",
    "- 给一份购买清单（颜色、种类，需要多少个）\n",
    "- 给一份拼接说明（可读性，颜色，块的种类）"
   ]
  },
  {
   "cell_type": "code",
   "execution_count": 110,
   "metadata": {},
   "outputs": [],
   "source": [
    "import cv2\n",
    "import os\n",
    "#cv2 是OpenCV，一个专门用于图像处理的包\n",
    "#os 是operating system，干一些系统相关的事情"
   ]
  },
  {
   "cell_type": "code",
   "execution_count": 111,
   "metadata": {},
   "outputs": [],
   "source": [
    "root_dir = '/Users/wjy/python/course/'\n",
    "#定义根目录"
   ]
  },
  {
   "cell_type": "code",
   "execution_count": 115,
   "metadata": {},
   "outputs": [
    {
     "name": "stdout",
     "output_type": "stream",
     "text": [
      "米色 \t [124 178 195]\n",
      "深灰色 \t [86 84 87]\n",
      "蓝色 \t [178  99  36]\n",
      "绿色 \t [ 82 163  47]\n",
      "橙色 \t [ 39 129 218]\n",
      "红色 \t [  6   6 190]\n",
      "棕色 \t [26 42 85]\n",
      "浅灰 \t [145 148 146]\n",
      "中肉色 \t [ 77 108 144]\n",
      "中蓝色 \t [202 153 118]\n",
      "黄色 \t [  0 197 246]\n",
      "深绿色 \t [64 82 53]\n",
      "黑色 \t [75 77 77]\n",
      "白色 \t [221 218 214]\n"
     ]
    }
   ],
   "source": [
    "#此部分用于读取文件夹lego brick所有图片，并根据文件名，构建颜色名和颜色RGB的字典\n",
    "work_dir = root_dir + 'lego'\n",
    "\n",
    "color_dic = {}\n",
    "\n",
    "for parent, dirnames, filenames in os.walk(work_dir,  followlinks=True):\n",
    "    for filename in filenames:\n",
    "        #file_path = os.path.join(parent, filename)\n",
    "        file_path = work_dir+'/'+filename\n",
    "        #print(file_path)\n",
    "        \n",
    "        # 以上为遍历work_dir中所有文件\n",
    "        \n",
    "        if file_path[-3:] != 'jpg' and file_path[-3:] != 'png':\n",
    "            continue\n",
    "            \n",
    "        img = cv2.imread(file_path)\n",
    "        x_size = len(img)\n",
    "        y_size = len(img[0])\n",
    "        mid_point = img[x_size//2][y_size//2]\n",
    "        \n",
    "        color_dic[filename.split('.')[0]] = mid_point\n",
    "        \n",
    "        # 颜色的存储格式其实是下节课我们要讲的内容，但其实可以类似数组处理，比如mid_point[0]就是第一个值，但注意，这个RGB的顺序不是RGB\n",
    "for key in color_dic:\n",
    "    print(key,'\\t',color_dic[key])"
   ]
  },
  {
   "cell_type": "code",
   "execution_count": null,
   "metadata": {},
   "outputs": [],
   "source": []
  },
  {
   "cell_type": "code",
   "execution_count": 116,
   "metadata": {},
   "outputs": [],
   "source": [
    "#此部分用于读取待处理图片，并截取中心1：1比例，并resize至48*48\n",
    "\n",
    "def img_mosaic(file_name,base_len):\n",
    "    raw_img = cv2.imread(file_name)\n",
    "    xlen = len(raw_img)\n",
    "    ylen = len(raw_img[0])\n",
    "    min_len = min(xlen,ylen)\n",
    "    \n",
    "    sq_img = raw_img[xlen//2-min_len//2:xlen//2+min_len//2][ylen//2-min_len//2:ylen//2+min_len//2]\n",
    "    mc_img = cv2.resize(sq_img,(base_len,base_len))\n",
    "    return mc_img"
   ]
  },
  {
   "cell_type": "code",
   "execution_count": 117,
   "metadata": {},
   "outputs": [
    {
     "data": {
      "text/plain": [
       "True"
      ]
     },
     "execution_count": 117,
     "metadata": {},
     "output_type": "execute_result"
    }
   ],
   "source": [
    "mc_lena = img_mosaic(root_dir+'lena.jpg',48)\n",
    "cv2.imwrite(root_dir+'lena_mc.jpg', mc_lena)  "
   ]
  },
  {
   "cell_type": "code",
   "execution_count": 118,
   "metadata": {},
   "outputs": [],
   "source": [
    "for i in range(2003):\n",
    "    for j in range(2003):\n",
    "        if i**2 + j**2 ==2003**2:\n",
    "            print(i,'\\t',j)"
   ]
  },
  {
   "cell_type": "code",
   "execution_count": null,
   "metadata": {},
   "outputs": [
    {
     "name": "stdout",
     "output_type": "stream",
     "text": [
      "\u001b[91m \u001b[91m \u001b[91m \u001b[91m \u001b[91m \u001b[91m \u001b[91m \u001b[91m \u001b[91m \u001b[91m \u001b[91m \u001b[91m \u001b[91m \u001b[91m \u001b[91m \u001b[91m \u001b[91m \u001b[91m \u001b[91m \u001b[91m \u001b[91m \u001b[91m \u001b[91m \u001b[91m \u001b[91m \u001b[91m \u001b[91m \u001b[91m \u001b[91m \u001b[91m \u001b[91m \u001b[91m \u001b[91m \u001b[91m \u001b[91m \u001b[91m \u001b[91m \u001b[91m \u001b[91m \u001b[91m \u001b[91m \u001b[91m \u001b[91m \u001b[91m \u001b[91m \u001b[91m \u001b[91m \u001b[91m \u001b[91m \u001b[91m \u001b[91m \u001b[91m \u001b[91m \u001b[91m \u001b[91m \u001b[91m \u001b[91m \u001b[91m \u001b[91m \u001b[91m \u001b[91m\n",
      "\u001b[91m \u001b[91m \u001b[91m \u001b[91m \u001b[91m \u001b[91m \u001b[91m \u001b[91m \u001b[91m \u001b[91m \u001b[91m \u001b[91m \u001b[91m \u001b[91m \u001b[91m \u001b[91m \u001b[91m \u001b[91m \u001b[91m \u001b[91m \u001b[91m \u001b[91m \u001b[91m \u001b[91m \u001b[91m \u001b[91m \u001b[91m \u001b[91m \u001b[91m \u001b[91m \u001b[91m \u001b[91m \u001b[91m \u001b[91m \u001b[91m \u001b[91m \u001b[91m \u001b[91m \u001b[91m \u001b[91m \u001b[91m \u001b[91m \u001b[91m \u001b[91m \u001b[91m \u001b[91m \u001b[91m \u001b[91m \u001b[91m \u001b[91m \u001b[91m \u001b[91m \u001b[91m \u001b[91m \u001b[91m \u001b[91m \u001b[91m \u001b[91m \u001b[91m \u001b[91m \u001b[91m\n",
      "\u001b[91m \u001b[91m \u001b[91m \u001b[91m \u001b[91m \u001b[91m \u001b[91m \u001b[91m \u001b[91m \u001b[91m \u001b[91m \u001b[91m \u001b[91m \u001b[91m \u001b[91m \u001b[91m \u001b[91m \u001b[91m \u001b[91m \u001b[91m \u001b[91m \u001b[91m \u001b[91m \u001b[91m \u001b[91m \u001b[91m \u001b[91m \u001b[91m \u001b[91m \u001b[91m \u001b[91m \u001b[91m \u001b[91m \u001b[91m \u001b[91m \u001b[91m \u001b[91m \u001b[91m \u001b[91m \u001b[91m \u001b[91m \u001b[91m \u001b[91m \u001b[91m \u001b[91m \u001b[91m \u001b[91m \u001b[91m \u001b[91m \u001b[91m \u001b[91m \u001b[91m \u001b[91m \u001b[91m \u001b[91m \u001b[91m \u001b[91m \u001b[91m \u001b[91m \u001b[91m \u001b[91m\n",
      "\u001b[91m \u001b[91m \u001b[91m \u001b[91m \u001b[91m \u001b[91m \u001b[91m \u001b[91m \u001b[91m \u001b[91m \u001b[91m \u001b[91m \u001b[91m \u001b[91m \u001b[91m \u001b[91m \u001b[91mI\u001b[91m \u001b[91ml\u001b[91mo\u001b[91mv\u001b[91me\u001b[91m \u001b[91mU\u001b[91m \u001b[91m \u001b[91m \u001b[91m \u001b[91m \u001b[91m \u001b[91m \u001b[91m \u001b[91m \u001b[91m \u001b[91m \u001b[91m \u001b[91ml\u001b[91mo\u001b[91mv\u001b[91me\u001b[91m \u001b[91mU\u001b[91m \u001b[91mI\u001b[91m \u001b[91m \u001b[91m \u001b[91m \u001b[91m \u001b[91m \u001b[91m \u001b[91m \u001b[91m \u001b[91m \u001b[91m \u001b[91m \u001b[91m \u001b[91m \u001b[91m \u001b[91m \u001b[91m\n",
      "\u001b[91m \u001b[91m \u001b[91m \u001b[91m \u001b[91m \u001b[91m \u001b[91m \u001b[91m \u001b[91m \u001b[91m \u001b[91m \u001b[91m \u001b[91m \u001b[91mU\u001b[91m \u001b[91mI\u001b[91m \u001b[91ml\u001b[91mo\u001b[91mv\u001b[91me\u001b[91m \u001b[91mU\u001b[91m \u001b[91mI\u001b[91m \u001b[91ml\u001b[91mo\u001b[91mv\u001b[91m \u001b[91m \u001b[91m \u001b[91m \u001b[91mI\u001b[91m \u001b[91ml\u001b[91mo\u001b[91mv\u001b[91me\u001b[91m \u001b[91mU\u001b[91m \u001b[91mI\u001b[91m \u001b[91ml\u001b[91mo\u001b[91mv\u001b[91me\u001b[91m \u001b[91m \u001b[91m \u001b[91m \u001b[91m \u001b[91m \u001b[91m \u001b[91m \u001b[91m \u001b[91m \u001b[91m \u001b[91m \u001b[91m\n",
      "\u001b[91m \u001b[91m \u001b[91m \u001b[91m \u001b[91m \u001b[91m \u001b[91m \u001b[91m \u001b[91m \u001b[91m \u001b[91me\u001b[91m \u001b[91mU\u001b[91m \u001b[91mI\u001b[91m \u001b[91ml\u001b[91mo\u001b[91mv\u001b[91me\u001b[91m \u001b[91mU\u001b[91m \u001b[91mI\u001b[91m \u001b[91ml\u001b[91mo\u001b[91mv\u001b[91me\u001b[91m \u001b[91mU\u001b[91m \u001b[91mI\u001b[91m \u001b[91ml\u001b[91mo\u001b[91mv\u001b[91me\u001b[91m \u001b[91mU\u001b[91m \u001b[91mI\u001b[91m \u001b[91ml\u001b[91mo\u001b[91mv\u001b[91me\u001b[91m \u001b[91mU\u001b[91m \u001b[91mI\u001b[91m \u001b[91m \u001b[91m \u001b[91m \u001b[91m \u001b[91m \u001b[91m \u001b[91m \u001b[91m \u001b[91m\n",
      "\u001b[91m \u001b[91m \u001b[91m \u001b[91m \u001b[91m \u001b[91m \u001b[91m \u001b[91m \u001b[91m \u001b[91me\u001b[91m \u001b[91mU\u001b[91m \u001b[91mI\u001b[91m \u001b[91ml\u001b[91mo\u001b[91mv\u001b[91me\u001b[91m \u001b[91mU\u001b[91m \u001b[91mI\u001b[91m \u001b[91ml\u001b[91mo\u001b[91mv\u001b[91me\u001b[91m \u001b[91mU\u001b[91m \u001b[91mI\u001b[91m \u001b[91ml\u001b[91mo\u001b[91mv\u001b[91me\u001b[91m \u001b[91mU\u001b[91m \u001b[91mI\u001b[91m \u001b[91ml\u001b[91mo\u001b[91mv\u001b[91me\u001b[91m \u001b[91mU\u001b[91m \u001b[91mI\u001b[91m \u001b[91ml\u001b[91m \u001b[91m \u001b[91m \u001b[91m \u001b[91m \u001b[91m \u001b[91m \u001b[91m \u001b[91m\n",
      "\u001b[91m \u001b[91m \u001b[91m \u001b[91m \u001b[91m \u001b[91m \u001b[91m \u001b[91m \u001b[91me\u001b[91m \u001b[91mU\u001b[91m \u001b[91mI\u001b[91m \u001b[91ml\u001b[91mo\u001b[91mv\u001b[91me\u001b[91m \u001b[91mU\u001b[91m \u001b[91mI\u001b[91m \u001b[91ml\u001b[91mo\u001b[91mv\u001b[91me\u001b[91m \u001b[91mU\u001b[91m \u001b[91mI\u001b[91m \u001b[91ml\u001b[91mo\u001b[91mv\u001b[91me\u001b[91m \u001b[91mU\u001b[91m \u001b[91mI\u001b[91m \u001b[91ml\u001b[91mo\u001b[91mv\u001b[91me\u001b[91m \u001b[91mU\u001b[91m \u001b[91mI\u001b[91m \u001b[91ml\u001b[91mo\u001b[91mv\u001b[91m \u001b[91m \u001b[91m \u001b[91m \u001b[91m \u001b[91m \u001b[91m \u001b[91m\n",
      "\u001b[91m \u001b[91m \u001b[91m \u001b[91m \u001b[91m \u001b[91m \u001b[91m \u001b[91m \u001b[91m \u001b[91mU\u001b[91m \u001b[91mI\u001b[91m \u001b[91ml\u001b[91mo\u001b[91mv\u001b[91me\u001b[91m \u001b[91mU\u001b[91m \u001b[91mI\u001b[91m \u001b[91ml\u001b[91mo\u001b[91mv\u001b[91me\u001b[91m \u001b[91mU\u001b[91m \u001b[91mI\u001b[91m \u001b[91ml\u001b[91mo\u001b[91mv\u001b[91me\u001b[91m \u001b[91mU\u001b[91m \u001b[91mI\u001b[91m \u001b[91ml\u001b[91mo\u001b[91mv\u001b[91me\u001b[91m \u001b[91mU\u001b[91m \u001b[91mI\u001b[91m \u001b[91ml\u001b[91mo\u001b[91mv\u001b[91me\u001b[91m \u001b[91m \u001b[91m \u001b[91m \u001b[91m \u001b[91m \u001b[91m \u001b[91m\n",
      "\u001b[91m \u001b[91m \u001b[91m \u001b[91m \u001b[91m \u001b[91m \u001b[91m \u001b[91m \u001b[91mU\u001b[91m \u001b[91mI\u001b[91m \u001b[91ml\u001b[91mo\u001b[91mv\u001b[91me\u001b[91m \u001b[91mU\u001b[91m \u001b[91mI\u001b[91m \u001b[91ml\u001b[91mo\u001b[91mv\u001b[91me\u001b[91m \u001b[91mU\u001b[91m \u001b[91mI\u001b[91m \u001b[91ml\u001b[91mo\u001b[91mv\u001b[91me\u001b[91m \u001b[91mU\u001b[91m \u001b[91mI\u001b[91m \u001b[91ml\u001b[91mo\u001b[91mv\u001b[91me\u001b[91m \u001b[91mU\u001b[91m \u001b[91mI\u001b[91m \u001b[91ml\u001b[91mo\u001b[91mv\u001b[91me\u001b[91m \u001b[91m \u001b[91m \u001b[91m \u001b[91m \u001b[91m \u001b[91m \u001b[91m \u001b[91m\n",
      "\u001b[91m \u001b[91m \u001b[91m \u001b[91m \u001b[91m \u001b[91m \u001b[91m \u001b[91m \u001b[91m \u001b[91mI\u001b[91m \u001b[91ml\u001b[91mo\u001b[91mv\u001b[91me\u001b[91m \u001b[91mU\u001b[91m \u001b[91mI\u001b[91m \u001b[91ml\u001b[91mo\u001b[91mv\u001b[91me\u001b[91m \u001b[91mU\u001b[91m \u001b[91mI\u001b[91m \u001b[91ml\u001b[91mo\u001b[91mv\u001b[91me\u001b[91m \u001b[91mU\u001b[91m \u001b[91mI\u001b[91m \u001b[91ml\u001b[91mo\u001b[91mv\u001b[91me\u001b[91m \u001b[91mU\u001b[91m \u001b[91mI\u001b[91m \u001b[91ml\u001b[91mo\u001b[91mv\u001b[91me\u001b[91m \u001b[91mU\u001b[91m \u001b[91m \u001b[91m \u001b[91m \u001b[91m \u001b[91m \u001b[91m \u001b[91m\n",
      "\u001b[91m \u001b[91m \u001b[91m \u001b[91m \u001b[91m \u001b[91m \u001b[91m \u001b[91m \u001b[91mI\u001b[91m \u001b[91ml\u001b[91mo\u001b[91mv\u001b[91me\u001b[91m \u001b[91mU\u001b[91m \u001b[91mI\u001b[91m \u001b[91ml\u001b[91mo\u001b[91mv\u001b[91me\u001b[91m \u001b[91mU\u001b[91m \u001b[91mI\u001b[91m \u001b[91ml\u001b[91mo\u001b[91mv\u001b[91me\u001b[91m \u001b[91mU\u001b[91m \u001b[91mI\u001b[91m \u001b[91ml\u001b[91mo\u001b[91mv\u001b[91me\u001b[91m \u001b[91mU\u001b[91m \u001b[91mI\u001b[91m \u001b[91ml\u001b[91mo\u001b[91mv\u001b[91me\u001b[91m \u001b[91mU\u001b[91m \u001b[91m \u001b[91m \u001b[91m \u001b[91m \u001b[91m \u001b[91m \u001b[91m \u001b[91m\n",
      "\u001b[91m \u001b[91m \u001b[91m \u001b[91m \u001b[91m \u001b[91m \u001b[91m \u001b[91m \u001b[91m \u001b[91ml\u001b[91mo\u001b[91mv\u001b[91me\u001b[91m \u001b[91mU\u001b[91m \u001b[91mI\u001b[91m \u001b[91ml\u001b[91mo\u001b[91mv\u001b[91me\u001b[91m \u001b[91mU\u001b[91m \u001b[91mI\u001b[91m \u001b[91ml\u001b[91mo\u001b[91mv\u001b[91me\u001b[91m \u001b[91mU\u001b[91m \u001b[91mI\u001b[91m \u001b[91ml\u001b[91mo\u001b[91mv\u001b[91me\u001b[91m \u001b[91mU\u001b[91m \u001b[91mI\u001b[91m \u001b[91ml\u001b[91mo\u001b[91mv\u001b[91me\u001b[91m \u001b[91mU\u001b[91m \u001b[91mI\u001b[91m \u001b[91m \u001b[91m \u001b[91m \u001b[91m \u001b[91m \u001b[91m \u001b[91m\n",
      "\u001b[91m \u001b[91m \u001b[91m \u001b[91m \u001b[91m \u001b[91m \u001b[91m \u001b[91m \u001b[91m \u001b[91mo\u001b[91mv\u001b[91me\u001b[91m \u001b[91mU\u001b[91m \u001b[91mI\u001b[91m \u001b[91ml\u001b[91mo\u001b[91mv\u001b[91me\u001b[91m \u001b[91mU\u001b[91m \u001b[91mI\u001b[91m \u001b[91ml\u001b[91mo\u001b[91mv\u001b[91me\u001b[91m \u001b[91mU\u001b[91m \u001b[91mI\u001b[91m \u001b[91ml\u001b[91mo\u001b[91mv\u001b[91me\u001b[91m \u001b[91mU\u001b[91m \u001b[91mI\u001b[91m \u001b[91ml\u001b[91mo\u001b[91mv\u001b[91me\u001b[91m \u001b[91mU\u001b[91m \u001b[91mI\u001b[91m \u001b[91m \u001b[91m \u001b[91m \u001b[91m \u001b[91m \u001b[91m \u001b[91m \u001b[91m\n",
      "\u001b[91m \u001b[91m \u001b[91m \u001b[91m \u001b[91m \u001b[91m \u001b[91m \u001b[91m \u001b[91m \u001b[91m \u001b[91me\u001b[91m \u001b[91mU\u001b[91m \u001b[91mI\u001b[91m \u001b[91ml\u001b[91mo\u001b[91mv\u001b[91me\u001b[91m \u001b[91mU\u001b[91m \u001b[91mI\u001b[91m \u001b[91ml\u001b[91mo\u001b[91mv\u001b[91me\u001b[91m \u001b[91mU\u001b[91m \u001b[91mI\u001b[91m \u001b[91ml\u001b[91mo\u001b[91mv\u001b[91me\u001b[91m \u001b[91mU\u001b[91m \u001b[91mI\u001b[91m \u001b[91ml\u001b[91mo\u001b[91mv\u001b[91me\u001b[91m \u001b[91mU\u001b[91m \u001b[91mI\u001b[91m \u001b[91m \u001b[91m \u001b[91m \u001b[91m \u001b[91m \u001b[91m \u001b[91m \u001b[91m \u001b[91m\n",
      "\u001b[91m \u001b[91m \u001b[91m \u001b[91m \u001b[91m \u001b[91m \u001b[91m \u001b[91m \u001b[91m \u001b[91m \u001b[91m \u001b[91mU\u001b[91m \u001b[91mI\u001b[91m \u001b[91ml\u001b[91mo\u001b[91mv\u001b[91me\u001b[91m \u001b[91mU\u001b[91m \u001b[91mI\u001b[91m \u001b[91ml\u001b[91mo\u001b[91mv\u001b[91me\u001b[91m \u001b[91mU\u001b[91m \u001b[91mI\u001b[91m \u001b[91ml\u001b[91mo\u001b[91mv\u001b[91me\u001b[91m \u001b[91mU\u001b[91m \u001b[91mI\u001b[91m \u001b[91ml\u001b[91mo\u001b[91mv\u001b[91me\u001b[91m \u001b[91mU\u001b[91m \u001b[91mI\u001b[91m \u001b[91m \u001b[91m \u001b[91m \u001b[91m \u001b[91m \u001b[91m \u001b[91m \u001b[91m \u001b[91m \u001b[91m\n",
      "\u001b[91m \u001b[91m \u001b[91m \u001b[91m \u001b[91m \u001b[91m \u001b[91m \u001b[91m \u001b[91m \u001b[91m \u001b[91m \u001b[91m \u001b[91mI\u001b[91m \u001b[91ml\u001b[91mo\u001b[91mv\u001b[91me\u001b[91m \u001b[91mU\u001b[91m \u001b[91mI\u001b[91m \u001b[91ml\u001b[91mo\u001b[91mv\u001b[91me\u001b[91m \u001b[91mU\u001b[91m \u001b[91mI\u001b[91m \u001b[91ml\u001b[91mo\u001b[91mv\u001b[91me\u001b[91m \u001b[91mU\u001b[91m \u001b[91mI\u001b[91m \u001b[91ml\u001b[91mo\u001b[91mv\u001b[91me\u001b[91m \u001b[91mU\u001b[91m \u001b[91mI\u001b[91m \u001b[91m \u001b[91m \u001b[91m \u001b[91m \u001b[91m \u001b[91m \u001b[91m \u001b[91m \u001b[91m \u001b[91m \u001b[91m\n",
      "\u001b[91m \u001b[91m \u001b[91m \u001b[91m \u001b[91m \u001b[91m \u001b[91m \u001b[91m \u001b[91m \u001b[91m \u001b[91m \u001b[91m \u001b[91m \u001b[91ml\u001b[91mo\u001b[91mv\u001b[91me\u001b[91m \u001b[91mU\u001b[91m \u001b[91mI\u001b[91m \u001b[91ml\u001b[91mo\u001b[91mv\u001b[91me\u001b[91m \u001b[91mU\u001b[91m \u001b[91mI\u001b[91m \u001b[91ml\u001b[91mo\u001b[91mv\u001b[91me\u001b[91m \u001b[91mU\u001b[91m \u001b[91mI\u001b[91m \u001b[91ml\u001b[91mo\u001b[91mv\u001b[91me\u001b[91m \u001b[91mU\u001b[91m \u001b[91mI\u001b[91m \u001b[91m \u001b[91m \u001b[91m \u001b[91m \u001b[91m \u001b[91m \u001b[91m \u001b[91m \u001b[91m \u001b[91m \u001b[91m \u001b[91m\n",
      "\u001b[91m \u001b[91m \u001b[91m \u001b[91m \u001b[91m \u001b[91m \u001b[91m \u001b[91m \u001b[91m \u001b[91m \u001b[91m \u001b[91m \u001b[91m \u001b[91m \u001b[91mv\u001b[91me\u001b[91m \u001b[91mU\u001b[91m \u001b[91mI\u001b[91m \u001b[91ml\u001b[91mo\u001b[91mv\u001b[91me\u001b[91m \u001b[91mU\u001b[91m \u001b[91mI\u001b[91m \u001b[91ml\u001b[91mo\u001b[91mv\u001b[91me\u001b[91m \u001b[91mU\u001b[91m \u001b[91mI\u001b[91m \u001b[91ml\u001b[91mo\u001b[91mv\u001b[91me\u001b[91m \u001b[91mU\u001b[91m \u001b[91mI\u001b[91m \u001b[91m \u001b[91m \u001b[91m \u001b[91m \u001b[91m \u001b[91m \u001b[91m \u001b[91m \u001b[91m \u001b[91m \u001b[91m \u001b[91m \u001b[91m\n",
      "\u001b[91m \u001b[91m \u001b[91m \u001b[91m \u001b[91m \u001b[91m \u001b[91m \u001b[91m \u001b[91m \u001b[91m \u001b[91m \u001b[91m \u001b[91m \u001b[91m \u001b[91m \u001b[91m \u001b[91mU\u001b[91m \u001b[91mI\u001b[91m \u001b[91ml\u001b[91mo\u001b[91mv\u001b[91me\u001b[91m \u001b[91mU\u001b[91m \u001b[91mI\u001b[91m \u001b[91ml\u001b[91mo\u001b[91mv\u001b[91me\u001b[91m \u001b[91mU\u001b[91m \u001b[91mI\u001b[91m \u001b[91ml\u001b[91mo\u001b[91mv\u001b[91me\u001b[91m \u001b[91mU\u001b[91m \u001b[91m \u001b[91m \u001b[91m \u001b[91m \u001b[91m \u001b[91m \u001b[91m \u001b[91m \u001b[91m \u001b[91m \u001b[91m \u001b[91m \u001b[91m \u001b[91m \u001b[91m \u001b[91m\n",
      "\u001b[91m \u001b[91m \u001b[91m \u001b[91m \u001b[91m \u001b[91m \u001b[91m \u001b[91m \u001b[91m \u001b[91m \u001b[91m \u001b[91m \u001b[91m \u001b[91m \u001b[91m \u001b[91m \u001b[91m \u001b[91m \u001b[91m \u001b[91ml\u001b[91mo\u001b[91mv\u001b[91me\u001b[91m \u001b[91mU\u001b[91m \u001b[91mI\u001b[91m \u001b[91ml\u001b[91mo\u001b[91mv\u001b[91me\u001b[91m \u001b[91mU\u001b[91m \u001b[91mI\u001b[91m \u001b[91ml\u001b[91mo\u001b[91mv\u001b[91me\u001b[91m \u001b[91mU\u001b[91m \u001b[91m \u001b[91m \u001b[91m \u001b[91m \u001b[91m \u001b[91m \u001b[91m \u001b[91m \u001b[91m \u001b[91m \u001b[91m \u001b[91m \u001b[91m \u001b[91m \u001b[91m \u001b[91m \u001b[91m\n",
      "\u001b[91m \u001b[91m \u001b[91m \u001b[91m \u001b[91m \u001b[91m \u001b[91m \u001b[91m \u001b[91m \u001b[91m \u001b[91m \u001b[91m \u001b[91m \u001b[91m \u001b[91m \u001b[91m \u001b[91m \u001b[91m \u001b[91m \u001b[91m \u001b[91mv\u001b[91me\u001b[91m \u001b[91mU\u001b[91m \u001b[91mI\u001b[91m \u001b[91ml\u001b[91mo\u001b[91mv\u001b[91me\u001b[91m \u001b[91mU\u001b[91m \u001b[91mI\u001b[91m \u001b[91ml\u001b[91mo\u001b[91mv\u001b[91me\u001b[91m \u001b[91m \u001b[91m \u001b[91m \u001b[91m \u001b[91m \u001b[91m \u001b[91m \u001b[91m \u001b[91m \u001b[91m \u001b[91m \u001b[91m \u001b[91m \u001b[91m \u001b[91m \u001b[91m \u001b[91m \u001b[91m \u001b[91m \u001b[91m\n",
      "\u001b[91m \u001b[91m \u001b[91m \u001b[91m \u001b[91m \u001b[91m \u001b[91m \u001b[91m \u001b[91m \u001b[91m \u001b[91m \u001b[91m \u001b[91m \u001b[91m \u001b[91m \u001b[91m \u001b[91m \u001b[91m \u001b[91m \u001b[91m \u001b[91m \u001b[91m \u001b[91m \u001b[91m \u001b[91mI\u001b[91m \u001b[91ml\u001b[91mo\u001b[91mv\u001b[91me\u001b[91m \u001b[91mU\u001b[91m \u001b[91mI\u001b[91m \u001b[91ml\u001b[91mo\u001b[91mv\u001b[91m \u001b[91m \u001b[91m \u001b[91m \u001b[91m \u001b[91m \u001b[91m \u001b[91m \u001b[91m \u001b[91m \u001b[91m \u001b[91m \u001b[91m \u001b[91m \u001b[91m \u001b[91m \u001b[91m \u001b[91m \u001b[91m \u001b[91m \u001b[91m \u001b[91m \u001b[91m\n",
      "\u001b[91m \u001b[91m \u001b[91m \u001b[91m \u001b[91m \u001b[91m \u001b[91m \u001b[91m \u001b[91m \u001b[91m \u001b[91m \u001b[91m \u001b[91m \u001b[91m \u001b[91m \u001b[91m \u001b[91m \u001b[91m \u001b[91m \u001b[91m \u001b[91m \u001b[91m \u001b[91m \u001b[91m \u001b[91m \u001b[91m \u001b[91mo\u001b[91mv\u001b[91me\u001b[91m \u001b[91mU\u001b[91m \u001b[91mI\u001b[91m \u001b[91ml\u001b[91m \u001b[91m \u001b[91m \u001b[91m \u001b[91m \u001b[91m \u001b[91m \u001b[91m \u001b[91m \u001b[91m \u001b[91m \u001b[91m \u001b[91m \u001b[91m \u001b[91m \u001b[91m \u001b[91m \u001b[91m \u001b[91m \u001b[91m \u001b[91m \u001b[91m \u001b[91m \u001b[91m \u001b[91m \u001b[91m\n",
      "\u001b[91m \u001b[91m \u001b[91m \u001b[91m \u001b[91m \u001b[91m \u001b[91m \u001b[91m \u001b[91m \u001b[91m \u001b[91m \u001b[91m \u001b[91m \u001b[91m \u001b[91m \u001b[91m \u001b[91m \u001b[91m \u001b[91m \u001b[91m \u001b[91m \u001b[91m \u001b[91m \u001b[91m \u001b[91m \u001b[91m \u001b[91m \u001b[91m \u001b[91m \u001b[91mU\u001b[91m \u001b[91mI\u001b[91m \u001b[91m \u001b[91m \u001b[91m \u001b[91m \u001b[91m \u001b[91m \u001b[91m \u001b[91m \u001b[91m \u001b[91m \u001b[91m \u001b[91m \u001b[91m \u001b[91m \u001b[91m \u001b[91m \u001b[91m \u001b[91m \u001b[91m \u001b[91m \u001b[91m \u001b[91m \u001b[91m \u001b[91m \u001b[91m \u001b[91m \u001b[91m \u001b[91m\n",
      "\u001b[91m \u001b[91m \u001b[91m \u001b[91m \u001b[91m \u001b[91m \u001b[91m \u001b[91m \u001b[91m \u001b[91m \u001b[91m \u001b[91m \u001b[91m \u001b[91m \u001b[91m \u001b[91m \u001b[91m \u001b[91m \u001b[91m \u001b[91m \u001b[91m \u001b[91m \u001b[91m \u001b[91m \u001b[91m \u001b[91m \u001b[91m \u001b[91m \u001b[91m \u001b[91m \u001b[91mI\u001b[91m \u001b[91m \u001b[91m \u001b[91m \u001b[91m \u001b[91m \u001b[91m \u001b[91m \u001b[91m \u001b[91m \u001b[91m \u001b[91m \u001b[91m \u001b[91m \u001b[91m \u001b[91m \u001b[91m \u001b[91m \u001b[91m \u001b[91m \u001b[91m \u001b[91m \u001b[91m \u001b[91m \u001b[91m \u001b[91m \u001b[91m \u001b[91m \u001b[91m \u001b[91m\n",
      "\u001b[91m \u001b[91m \u001b[91m \u001b[91m \u001b[91m \u001b[91m \u001b[91m \u001b[91m \u001b[91m \u001b[91m \u001b[91m \u001b[91m \u001b[91m \u001b[91m \u001b[91m \u001b[91m \u001b[91m \u001b[91m \u001b[91m \u001b[91m \u001b[91m \u001b[91m \u001b[91m \u001b[91m \u001b[91m \u001b[91m \u001b[91m \u001b[91m \u001b[91m \u001b[91m \u001b[91m \u001b[91m \u001b[91m \u001b[91m \u001b[91m \u001b[91m \u001b[91m \u001b[91m \u001b[91m \u001b[91m \u001b[91m \u001b[91m \u001b[91m \u001b[91m \u001b[91m \u001b[91m \u001b[91m \u001b[91m \u001b[91m \u001b[91m \u001b[91m \u001b[91m \u001b[91m \u001b[91m \u001b[91m \u001b[91m \u001b[91m \u001b[91m \u001b[91m \u001b[91m \u001b[91m\n",
      "\u001b[91m \u001b[91m \u001b[91m \u001b[91m \u001b[91m \u001b[91m \u001b[91m \u001b[91m \u001b[91m \u001b[91m \u001b[91m \u001b[91m \u001b[91m \u001b[91m \u001b[91m \u001b[91m \u001b[91m \u001b[91m \u001b[91m \u001b[91m \u001b[91m \u001b[91m \u001b[91m \u001b[91m \u001b[91m \u001b[91m \u001b[91m \u001b[91m \u001b[91m \u001b[91m \u001b[91m \u001b[91m \u001b[91m \u001b[91m \u001b[91m \u001b[91m \u001b[91m \u001b[91m \u001b[91m \u001b[91m \u001b[91m \u001b[91m \u001b[91m \u001b[91m \u001b[91m \u001b[91m \u001b[91m \u001b[91m \u001b[91m \u001b[91m \u001b[91m \u001b[91m \u001b[91m \u001b[91m \u001b[91m \u001b[91m \u001b[91m \u001b[91m \u001b[91m \u001b[91m \u001b[91m\n",
      "\u001b[91m \u001b[91m \u001b[91m \u001b[91m \u001b[91m \u001b[91m \u001b[91m \u001b[91m \u001b[91m \u001b[91m \u001b[91m \u001b[91m \u001b[91m \u001b[91m \u001b[91m \u001b[91m \u001b[91m \u001b[91m \u001b[91m \u001b[91m \u001b[91m \u001b[91m \u001b[91m \u001b[91m \u001b[91m \u001b[91m \u001b[91m \u001b[91m \u001b[91m \u001b[91m \u001b[91m \u001b[91m \u001b[91m \u001b[91m \u001b[91m \u001b[91m \u001b[91m \u001b[91m \u001b[91m \u001b[91m \u001b[91m \u001b[91m \u001b[91m \u001b[91m \u001b[91m \u001b[91m \u001b[91m \u001b[91m \u001b[91m \u001b[91m \u001b[91m \u001b[91m \u001b[91m \u001b[91m \u001b[91m \u001b[91m \u001b[91m \u001b[91m \u001b[91m \u001b[91m \u001b[91m\n",
      "\u001b[91m \u001b[91m \u001b[91m \u001b[91m \u001b[91m \u001b[91m \u001b[91m \u001b[91m \u001b[91m \u001b[91m \u001b[91m \u001b[91m \u001b[91m \u001b[91m \u001b[91m \u001b[91m \u001b[91m \u001b[91m \u001b[91m \u001b[91m \u001b[91m \u001b[91m \u001b[91m \u001b[91m \u001b[91m \u001b[91m \u001b[91m \u001b[91m \u001b[91m \u001b[91m \u001b[91m \u001b[91m \u001b[91m \u001b[91m \u001b[91m \u001b[91m \u001b[91m \u001b[91m \u001b[91m \u001b[91m \u001b[91m \u001b[91m \u001b[91m \u001b[91m \u001b[91m \u001b[91m \u001b[91m \u001b[91m \u001b[91m \u001b[91m \u001b[91m \u001b[91m \u001b[91m \u001b[91m \u001b[91m \u001b[91m \u001b[91m \u001b[91m \u001b[91m \u001b[91m \u001b[91m \u001b[91m \u001b[91m \u001b[91m \u001b[91m \u001b[91m \u001b[91m \u001b[91m \u001b[91m \u001b[91m \u001b[91m \u001b[91m \u001b[91m \u001b[91m \u001b[91m \u001b[91m \u001b[91m \u001b[91m \u001b[91m \u001b[91m \u001b[91m \u001b[91m \u001b[91m \u001b[91m \u001b[91m \u001b[91m \u001b[91m \u001b[91m \u001b[91m \u001b[91m \u001b[91m \u001b[91m \u001b[91m \u001b[91m \u001b[91m \u001b[91m \u001b[91m \u001b[91m \u001b[91m \u001b[91m \u001b[91m \u001b[91m \u001b[91m \u001b[91m \u001b[91m \u001b[91m \u001b[91m \u001b[91m \u001b[91m \u001b[91m \u001b[91m \u001b[91m \u001b[91m \u001b[91m \u001b[91m \u001b[91m \u001b[91m \u001b[91m \u001b[91m \u001b[91m \u001b[91m\n",
      "\u001b[91m \u001b[91m \u001b[91m \u001b[91m \u001b[91m \u001b[91m \u001b[91m \u001b[91m \u001b[91m \u001b[91m \u001b[91m \u001b[91m \u001b[91m \u001b[91m \u001b[91m \u001b[91m \u001b[91m \u001b[91m \u001b[91m \u001b[91m \u001b[91m \u001b[91m \u001b[91m \u001b[91m \u001b[91m \u001b[91m \u001b[91m \u001b[91m \u001b[91m \u001b[91m \u001b[91m \u001b[91m \u001b[91m \u001b[91m \u001b[91m \u001b[91m \u001b[91m \u001b[91m \u001b[91m \u001b[91m \u001b[91m \u001b[91m \u001b[91m \u001b[91m \u001b[91m \u001b[91m \u001b[91m \u001b[91m \u001b[91m \u001b[91m \u001b[91m \u001b[91m \u001b[91m \u001b[91m \u001b[91m \u001b[91m \u001b[91m \u001b[91m \u001b[91m \u001b[91m \u001b[91m\n",
      "\u001b[91m \u001b[91m \u001b[91m \u001b[91m \u001b[91m \u001b[91m \u001b[91m \u001b[91m \u001b[91m \u001b[91m \u001b[91m \u001b[91m \u001b[91m \u001b[91m \u001b[91m \u001b[91m \u001b[91m \u001b[91m \u001b[91m \u001b[91m \u001b[91m \u001b[91m \u001b[91m \u001b[91m \u001b[91m \u001b[91m \u001b[91m \u001b[91m \u001b[91m \u001b[91m \u001b[91m \u001b[91m \u001b[91m \u001b[91m \u001b[91m \u001b[91m \u001b[91m \u001b[91m \u001b[91m \u001b[91m \u001b[91m \u001b[91m \u001b[91m \u001b[91m \u001b[91m \u001b[91m \u001b[91m \u001b[91m \u001b[91m \u001b[91m \u001b[91m \u001b[91m \u001b[91m \u001b[91m \u001b[91m \u001b[91m \u001b[91m \u001b[91m \u001b[91m \u001b[91m \u001b[91m\n",
      "\u001b[91m \u001b[91m \u001b[91m \u001b[91m \u001b[91m \u001b[91m \u001b[91m \u001b[91m \u001b[91m \u001b[91m \u001b[91m \u001b[91m \u001b[91m \u001b[91m \u001b[91m \u001b[91m \u001b[91mI\u001b[91m \u001b[91ml\u001b[91mo\u001b[91mv\u001b[91me\u001b[91m \u001b[91mU\u001b[91m \u001b[91m \u001b[91m \u001b[91m \u001b[91m \u001b[91m \u001b[91m \u001b[91m \u001b[91m \u001b[91m \u001b[91m \u001b[91m \u001b[91ml\u001b[91mo\u001b[91mv\u001b[91me\u001b[91m \u001b[91mU\u001b[91m \u001b[91mI\u001b[91m \u001b[91m \u001b[91m \u001b[91m \u001b[91m \u001b[91m \u001b[91m \u001b[91m \u001b[91m \u001b[91m \u001b[91m \u001b[91m \u001b[91m \u001b[91m \u001b[91m \u001b[91m \u001b[91m\n",
      "\u001b[91m \u001b[91m \u001b[91m \u001b[91m \u001b[91m \u001b[91m \u001b[91m \u001b[91m \u001b[91m \u001b[91m \u001b[91m \u001b[91m \u001b[91m \u001b[91mU\u001b[91m \u001b[91mI\u001b[91m \u001b[91ml\u001b[91mo\u001b[91mv\u001b[91me\u001b[91m \u001b[91mU\u001b[91m \u001b[91mI\u001b[91m \u001b[91ml\u001b[91mo\u001b[91mv\u001b[91m \u001b[91m \u001b[91m \u001b[91m \u001b[91mI\u001b[91m \u001b[91ml\u001b[91mo\u001b[91mv\u001b[91me\u001b[91m \u001b[91mU\u001b[91m \u001b[91mI\u001b[91m \u001b[91ml\u001b[91mo\u001b[91mv\u001b[91me\u001b[91m \u001b[91m \u001b[91m \u001b[91m \u001b[91m \u001b[91m \u001b[91m \u001b[91m \u001b[91m \u001b[91m \u001b[91m \u001b[91m \u001b[91m\n",
      "\u001b[91m \u001b[91m \u001b[91m \u001b[91m \u001b[91m \u001b[91m \u001b[91m \u001b[91m \u001b[91m \u001b[91m \u001b[91me\u001b[91m \u001b[91mU\u001b[91m \u001b[91mI\u001b[91m \u001b[91ml\u001b[91mo\u001b[91mv\u001b[91me\u001b[91m \u001b[91mU\u001b[91m \u001b[91mI\u001b[91m \u001b[91ml\u001b[91mo\u001b[91mv\u001b[91me\u001b[91m \u001b[91mU\u001b[91m \u001b[91mI\u001b[91m \u001b[91ml\u001b[91mo\u001b[91mv\u001b[91me\u001b[91m \u001b[91mU\u001b[91m \u001b[91mI\u001b[91m \u001b[91ml\u001b[91mo\u001b[91mv\u001b[91me\u001b[91m \u001b[91mU\u001b[91m \u001b[91mI\u001b[91m \u001b[91m \u001b[91m \u001b[91m \u001b[91m \u001b[91m \u001b[91m \u001b[91m \u001b[91m \u001b[91m\n",
      "\u001b[91m \u001b[91m \u001b[91m \u001b[91m \u001b[91m \u001b[91m \u001b[91m \u001b[91m \u001b[91m \u001b[91me\u001b[91m \u001b[91mU\u001b[91m \u001b[91mI\u001b[91m \u001b[91ml\u001b[91mo\u001b[91mv\u001b[91me\u001b[91m \u001b[91mU\u001b[91m \u001b[91mI\u001b[91m \u001b[91ml\u001b[91mo\u001b[91mv\u001b[91me\u001b[91m \u001b[91mU\u001b[91m \u001b[91mI\u001b[91m \u001b[91ml\u001b[91mo\u001b[91mv\u001b[91me\u001b[91m \u001b[91mU\u001b[91m \u001b[91mI\u001b[91m \u001b[91ml\u001b[91mo\u001b[91mv\u001b[91me\u001b[91m \u001b[91mU\u001b[91m \u001b[91mI\u001b[91m \u001b[91ml\u001b[91m \u001b[91m \u001b[91m \u001b[91m \u001b[91m \u001b[91m \u001b[91m \u001b[91m \u001b[91m\n",
      "\u001b[91m \u001b[91m \u001b[91m \u001b[91m \u001b[91m \u001b[91m \u001b[91m \u001b[91m \u001b[91me\u001b[91m \u001b[91mU\u001b[91m \u001b[91mI\u001b[91m \u001b[91ml\u001b[91mo\u001b[91mv\u001b[91me\u001b[91m \u001b[91mU\u001b[91m \u001b[91mI\u001b[91m \u001b[91ml\u001b[91mo\u001b[91mv\u001b[91me\u001b[91m \u001b[91mU\u001b[91m \u001b[91mI\u001b[91m \u001b[91ml\u001b[91mo\u001b[91mv\u001b[91me\u001b[91m \u001b[91mU\u001b[91m \u001b[91mI\u001b[91m \u001b[91ml\u001b[91mo\u001b[91mv\u001b[91me\u001b[91m \u001b[91mU\u001b[91m \u001b[91mI\u001b[91m \u001b[91ml\u001b[91mo\u001b[91mv\u001b[91m \u001b[91m \u001b[91m \u001b[91m \u001b[91m \u001b[91m \u001b[91m \u001b[91m\n",
      "\u001b[91m \u001b[91m \u001b[91m \u001b[91m \u001b[91m \u001b[91m \u001b[91m \u001b[91m \u001b[91m \u001b[91mU\u001b[91m \u001b[91mI\u001b[91m \u001b[91ml\u001b[91mo\u001b[91mv\u001b[91me\u001b[91m \u001b[91mU\u001b[91m \u001b[91mI\u001b[91m \u001b[91ml\u001b[91mo\u001b[91mv\u001b[91me\u001b[91m \u001b[91mU\u001b[91m \u001b[91mI\u001b[91m \u001b[91ml\u001b[91mo\u001b[91mv\u001b[91me\u001b[91m \u001b[91mU\u001b[91m \u001b[91mI\u001b[91m \u001b[91ml\u001b[91mo\u001b[91mv\u001b[91me\u001b[91m \u001b[91mU\u001b[91m \u001b[91mI\u001b[91m \u001b[91ml\u001b[91mo\u001b[91mv\u001b[91me\u001b[91m \u001b[91m \u001b[91m \u001b[91m \u001b[91m \u001b[91m \u001b[91m \u001b[91m\n",
      "\u001b[91m \u001b[91m \u001b[91m \u001b[91m \u001b[91m \u001b[91m \u001b[91m \u001b[91m \u001b[91mU\u001b[91m \u001b[91mI\u001b[91m \u001b[91ml\u001b[91mo\u001b[91mv\u001b[91me\u001b[91m \u001b[91mU\u001b[91m \u001b[91mI\u001b[91m \u001b[91ml\u001b[91mo\u001b[91mv\u001b[91me\u001b[91m \u001b[91mU\u001b[91m \u001b[91mI\u001b[91m \u001b[91ml\u001b[91mo\u001b[91mv\u001b[91me\u001b[91m \u001b[91mU\u001b[91m \u001b[91mI\u001b[91m \u001b[91ml\u001b[91mo\u001b[91mv\u001b[91me\u001b[91m \u001b[91mU\u001b[91m \u001b[91mI\u001b[91m \u001b[91ml\u001b[91mo\u001b[91mv\u001b[91me\u001b[91m \u001b[91m \u001b[91m \u001b[91m \u001b[91m \u001b[91m \u001b[91m \u001b[91m \u001b[91m\n",
      "\u001b[91m \u001b[91m \u001b[91m \u001b[91m \u001b[91m \u001b[91m \u001b[91m \u001b[91m \u001b[91m \u001b[91mI\u001b[91m \u001b[91ml\u001b[91mo\u001b[91mv\u001b[91me\u001b[91m \u001b[91mU\u001b[91m \u001b[91mI\u001b[91m \u001b[91ml\u001b[91mo\u001b[91mv\u001b[91me\u001b[91m \u001b[91mU\u001b[91m \u001b[91mI\u001b[91m \u001b[91ml\u001b[91mo\u001b[91mv\u001b[91me\u001b[91m \u001b[91mU\u001b[91m \u001b[91mI\u001b[91m \u001b[91ml\u001b[91mo\u001b[91mv\u001b[91me\u001b[91m \u001b[91mU\u001b[91m \u001b[91mI\u001b[91m \u001b[91ml\u001b[91mo\u001b[91mv\u001b[91me\u001b[91m \u001b[91mU\u001b[91m \u001b[91m \u001b[91m \u001b[91m \u001b[91m \u001b[91m \u001b[91m \u001b[91m\n",
      "\u001b[91m \u001b[91m \u001b[91m \u001b[91m \u001b[91m \u001b[91m \u001b[91m \u001b[91m \u001b[91mI\u001b[91m \u001b[91ml\u001b[91mo\u001b[91mv\u001b[91me\u001b[91m \u001b[91mU\u001b[91m \u001b[91mI\u001b[91m \u001b[91ml\u001b[91mo\u001b[91mv\u001b[91me\u001b[91m \u001b[91mU\u001b[91m \u001b[91mI\u001b[91m \u001b[91ml\u001b[91mo\u001b[91mv\u001b[91me\u001b[91m \u001b[91mU\u001b[91m \u001b[91mI\u001b[91m \u001b[91ml\u001b[91mo\u001b[91mv\u001b[91me\u001b[91m \u001b[91mU\u001b[91m \u001b[91mI\u001b[91m \u001b[91ml\u001b[91mo\u001b[91mv\u001b[91me\u001b[91m \u001b[91mU\u001b[91m \u001b[91m \u001b[91m \u001b[91m \u001b[91m \u001b[91m \u001b[91m \u001b[91m \u001b[91m\n",
      "\u001b[91m \u001b[91m \u001b[91m \u001b[91m \u001b[91m \u001b[91m \u001b[91m \u001b[91m \u001b[91m \u001b[91ml\u001b[91mo\u001b[91mv\u001b[91me\u001b[91m \u001b[91mU\u001b[91m \u001b[91mI\u001b[91m \u001b[91ml\u001b[91mo\u001b[91mv\u001b[91me\u001b[91m \u001b[91mU\u001b[91m \u001b[91mI\u001b[91m \u001b[91ml\u001b[91mo\u001b[91mv\u001b[91me\u001b[91m \u001b[91mU\u001b[91m \u001b[91mI\u001b[91m \u001b[91ml\u001b[91mo\u001b[91mv\u001b[91me\u001b[91m \u001b[91mU\u001b[91m \u001b[91mI\u001b[91m \u001b[91ml\u001b[91mo\u001b[91mv\u001b[91me\u001b[91m \u001b[91mU\u001b[91m \u001b[91mI\u001b[91m \u001b[91m \u001b[91m \u001b[91m \u001b[91m \u001b[91m \u001b[91m \u001b[91m\n",
      "\u001b[91m \u001b[91m \u001b[91m \u001b[91m \u001b[91m \u001b[91m \u001b[91m \u001b[91m \u001b[91m \u001b[91mo\u001b[91mv\u001b[91me\u001b[91m \u001b[91mU\u001b[91m \u001b[91mI\u001b[91m \u001b[91ml\u001b[91mo\u001b[91mv\u001b[91me\u001b[91m \u001b[91mU\u001b[91m \u001b[91mI\u001b[91m \u001b[91ml\u001b[91mo\u001b[91mv\u001b[91me\u001b[91m \u001b[91mU\u001b[91m \u001b[91mI\u001b[91m \u001b[91ml\u001b[91mo\u001b[91mv\u001b[91me\u001b[91m \u001b[91mU\u001b[91m \u001b[91mI\u001b[91m \u001b[91ml\u001b[91mo\u001b[91mv\u001b[91me\u001b[91m \u001b[91mU\u001b[91m \u001b[91mI\u001b[91m \u001b[91m \u001b[91m \u001b[91m \u001b[91m \u001b[91m \u001b[91m \u001b[91m \u001b[91m\n"
     ]
    },
    {
     "name": "stdout",
     "output_type": "stream",
     "text": [
      "\u001b[91m \u001b[91m \u001b[91m \u001b[91m \u001b[91m \u001b[91m \u001b[91m \u001b[91m \u001b[91m \u001b[91m \u001b[91me\u001b[91m \u001b[91mU\u001b[91m \u001b[91mI\u001b[91m \u001b[91ml\u001b[91mo\u001b[91mv\u001b[91me\u001b[91m \u001b[91mU\u001b[91m \u001b[91mI\u001b[91m \u001b[91ml\u001b[91mo\u001b[91mv\u001b[91me\u001b[91m \u001b[91mU\u001b[91m \u001b[91mI\u001b[91m \u001b[91ml\u001b[91mo\u001b[91mv\u001b[91me\u001b[91m \u001b[91mU\u001b[91m \u001b[91mI\u001b[91m \u001b[91ml\u001b[91mo\u001b[91mv\u001b[91me\u001b[91m \u001b[91mU\u001b[91m \u001b[91mI\u001b[91m \u001b[91m \u001b[91m \u001b[91m \u001b[91m \u001b[91m \u001b[91m \u001b[91m \u001b[91m \u001b[91m\n",
      "\u001b[91m \u001b[91m \u001b[91m \u001b[91m \u001b[91m \u001b[91m \u001b[91m \u001b[91m \u001b[91m \u001b[91m \u001b[91m \u001b[91mU\u001b[91m \u001b[91mI\u001b[91m \u001b[91ml\u001b[91mo\u001b[91mv\u001b[91me\u001b[91m \u001b[91mU\u001b[91m \u001b[91mI\u001b[91m \u001b[91ml\u001b[91mo\u001b[91mv\u001b[91me\u001b[91m \u001b[91mU\u001b[91m \u001b[91mI\u001b[91m \u001b[91ml\u001b[91mo\u001b[91mv\u001b[91me\u001b[91m \u001b[91mU\u001b[91m \u001b[91mI\u001b[91m \u001b[91ml\u001b[91mo\u001b[91mv\u001b[91me\u001b[91m \u001b[91mU\u001b[91m \u001b[91mI\u001b[91m \u001b[91m \u001b[91m \u001b[91m \u001b[91m \u001b[91m \u001b[91m \u001b[91m \u001b[91m \u001b[91m \u001b[91m\n",
      "\u001b[91m \u001b[91m \u001b[91m \u001b[91m \u001b[91m \u001b[91m \u001b[91m \u001b[91m \u001b[91m \u001b[91m \u001b[91m \u001b[91m \u001b[91mI\u001b[91m \u001b[91ml\u001b[91mo\u001b[91mv\u001b[91me\u001b[91m \u001b[91mU\u001b[91m \u001b[91mI\u001b[91m \u001b[91ml\u001b[91mo\u001b[91mv\u001b[91me\u001b[91m \u001b[91mU\u001b[91m \u001b[91mI\u001b[91m \u001b[91ml\u001b[91mo\u001b[91mv\u001b[91me\u001b[91m \u001b[91mU\u001b[91m \u001b[91mI\u001b[91m \u001b[91ml\u001b[91mo\u001b[91mv\u001b[91me\u001b[91m \u001b[91mU\u001b[91m \u001b[91mI\u001b[91m \u001b[91m \u001b[91m \u001b[91m \u001b[91m \u001b[91m \u001b[91m \u001b[91m \u001b[91m \u001b[91m \u001b[91m \u001b[91m\n",
      "\u001b[91m \u001b[91m \u001b[91m \u001b[91m \u001b[91m \u001b[91m \u001b[91m \u001b[91m \u001b[91m \u001b[91m \u001b[91m \u001b[91m \u001b[91m \u001b[91ml\u001b[91mo\u001b[91mv\u001b[91me\u001b[91m \u001b[91mU\u001b[91m \u001b[91mI\u001b[91m \u001b[91ml\u001b[91mo\u001b[91mv\u001b[91me\u001b[91m \u001b[91mU\u001b[91m \u001b[91mI\u001b[91m \u001b[91ml\u001b[91mo\u001b[91mv\u001b[91me\u001b[91m \u001b[91mU\u001b[91m \u001b[91mI\u001b[91m \u001b[91ml\u001b[91mo\u001b[91mv\u001b[91me\u001b[91m \u001b[91mU\u001b[91m \u001b[91mI\u001b[91m \u001b[91m \u001b[91m \u001b[91m \u001b[91m \u001b[91m \u001b[91m \u001b[91m \u001b[91m \u001b[91m \u001b[91m \u001b[91m \u001b[91m\n",
      "\u001b[91m \u001b[91m \u001b[91m \u001b[91m \u001b[91m \u001b[91m \u001b[91m \u001b[91m \u001b[91m \u001b[91m \u001b[91m \u001b[91m \u001b[91m \u001b[91m \u001b[91mv\u001b[91me\u001b[91m \u001b[91mU\u001b[91m \u001b[91mI\u001b[91m \u001b[91ml\u001b[91mo\u001b[91mv\u001b[91me\u001b[91m \u001b[91mU\u001b[91m \u001b[91mI\u001b[91m \u001b[91ml\u001b[91mo\u001b[91mv\u001b[91me\u001b[91m \u001b[91mU\u001b[91m \u001b[91mI\u001b[91m \u001b[91ml\u001b[91mo\u001b[91mv\u001b[91me\u001b[91m \u001b[91mU\u001b[91m \u001b[91mI\u001b[91m \u001b[91m \u001b[91m \u001b[91m \u001b[91m \u001b[91m \u001b[91m \u001b[91m \u001b[91m \u001b[91m \u001b[91m \u001b[91m \u001b[91m \u001b[91m\n",
      "\u001b[91m \u001b[91m \u001b[91m \u001b[91m \u001b[91m \u001b[91m \u001b[91m \u001b[91m \u001b[91m \u001b[91m \u001b[91m \u001b[91m \u001b[91m \u001b[91m \u001b[91m \u001b[91m \u001b[91mU\u001b[91m \u001b[91mI\u001b[91m \u001b[91ml\u001b[91mo\u001b[91mv\u001b[91me\u001b[91m \u001b[91mU\u001b[91m \u001b[91mI\u001b[91m \u001b[91ml\u001b[91mo\u001b[91mv\u001b[91me\u001b[91m \u001b[91mU\u001b[91m \u001b[91mI\u001b[91m \u001b[91ml\u001b[91mo\u001b[91mv\u001b[91me\u001b[91m \u001b[91mU\u001b[91m \u001b[91m \u001b[91m \u001b[91m \u001b[91m \u001b[91m \u001b[91m \u001b[91m \u001b[91m \u001b[91m \u001b[91m \u001b[91m \u001b[91m \u001b[91m \u001b[91m \u001b[91m \u001b[91m\n",
      "\u001b[91m \u001b[91m \u001b[91m \u001b[91m \u001b[91m \u001b[91m \u001b[91m \u001b[91m \u001b[91m \u001b[91m \u001b[91m \u001b[91m \u001b[91m \u001b[91m \u001b[91m \u001b[91m \u001b[91m \u001b[91m \u001b[91m \u001b[91ml\u001b[91mo\u001b[91mv\u001b[91me\u001b[91m \u001b[91mU\u001b[91m \u001b[91mI\u001b[91m \u001b[91ml\u001b[91mo\u001b[91mv\u001b[91me\u001b[91m \u001b[91mU\u001b[91m \u001b[91mI\u001b[91m \u001b[91ml\u001b[91mo\u001b[91mv\u001b[91me\u001b[91m \u001b[91mU\u001b[91m \u001b[91m \u001b[91m \u001b[91m \u001b[91m \u001b[91m \u001b[91m \u001b[91m \u001b[91m \u001b[91m \u001b[91m \u001b[91m \u001b[91m \u001b[91m \u001b[91m \u001b[91m \u001b[91m \u001b[91m\n",
      "\u001b[91m \u001b[91m \u001b[91m \u001b[91m \u001b[91m \u001b[91m \u001b[91m \u001b[91m \u001b[91m \u001b[91m \u001b[91m \u001b[91m \u001b[91m \u001b[91m \u001b[91m \u001b[91m \u001b[91m \u001b[91m \u001b[91m \u001b[91m \u001b[91mv\u001b[91me\u001b[91m \u001b[91mU\u001b[91m \u001b[91mI\u001b[91m \u001b[91ml\u001b[91mo\u001b[91mv\u001b[91me\u001b[91m \u001b[91mU\u001b[91m \u001b[91mI\u001b[91m \u001b[91ml\u001b[91mo\u001b[91mv\u001b[91me\u001b[91m \u001b[91m \u001b[91m \u001b[91m \u001b[91m \u001b[91m \u001b[91m \u001b[91m \u001b[91m \u001b[91m \u001b[91m \u001b[91m \u001b[91m \u001b[91m \u001b[91m \u001b[91m \u001b[91m \u001b[91m \u001b[91m \u001b[91m \u001b[91m\n",
      "\u001b[91m \u001b[91m \u001b[91m \u001b[91m \u001b[91m "
     ]
    }
   ],
   "source": [
    "import  time,os,math\n",
    "[([(time.sleep(a),  print(\"\\033[91m\"+i,end=\"\",flush=True)) for i in ('\\n'.join([''.join([(' I love U'[(x-y)%9]if((x*0.05)**2+(y*0.1)**2-1)**3-(x*0.05)**2*(y*0.1)**3<=0 else' ')for x in range(-30,30)])for y in range(15,-15,-1)]))] ,time.sleep(1/math.log(ai+3)), os.system('clear')  ) for (ai,a) in enumerate([0.001,*[ 0.00001 ]*99])]\n"
   ]
  },
  {
   "cell_type": "code",
   "execution_count": null,
   "metadata": {},
   "outputs": [],
   "source": []
  }
 ],
 "metadata": {
  "kernelspec": {
   "display_name": "Python 3",
   "language": "python",
   "name": "python3"
  },
  "language_info": {
   "codemirror_mode": {
    "name": "ipython",
    "version": 3
   },
   "file_extension": ".py",
   "mimetype": "text/x-python",
   "name": "python",
   "nbconvert_exporter": "python",
   "pygments_lexer": "ipython3",
   "version": "3.7.4"
  }
 },
 "nbformat": 4,
 "nbformat_minor": 2
}
